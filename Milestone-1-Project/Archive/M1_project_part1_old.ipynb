{
 "cells": [
  {
   "cell_type": "code",
   "metadata": {
    "cell_id": "00000-08668a20-ac67-4ffe-9485-220db18020fd",
    "deepnote_cell_type": "code"
   },
   "source": "%matplotlib inline\nimport pandas as pd\nimport numpy as np\nimport math\nimport altair as alt\nimport folium\nimport matplotlib\nimport matplotlib.pyplot as plt\nfrom folium import IFrame\nfrom numpy import linalg\nimport scipy\nimport branca.colormap as cm\nimport matplotlib.pyplot as plt\nimport seaborn as sns\nimport pandas as pd\nimport statsmodels.api as sm\nimport numpy as np\nimport itertools\n\n# enable correct rendering\nalt.renderers.enable('default')\n# uses intermediate json files to speed things up\nalt.data_transformers.enable('json')\n",
   "outputs": [
    {
     "data": {
      "text/plain": "DataTransformerRegistry.enable('json')"
     },
     "execution_count": 66,
     "metadata": {},
     "output_type": "execute_result"
    }
   ],
   "execution_count": null
  },
  {
   "cell_type": "code",
   "metadata": {
    "cell_id": "00001-5aca03cf-2bc2-4199-b8aa-022001875609",
    "deepnote_cell_type": "code"
   },
   "source": "#Importing Main Dataset\ndf = pd.read_csv('data2.csv', encoding='latin1')",
   "outputs": [],
   "execution_count": null
  },
  {
   "cell_type": "code",
   "metadata": {
    "cell_id": "00002-8c6d5639-2257-401e-b486-aabfcc3e4100",
    "deepnote_cell_type": "code"
   },
   "source": "\n#Dataframe Cleanup\n#Stockcode which contains only digits signifies sale entry\n#Hence we will filter out enteries with digit only stockcode\n\n#Carriage did not drop, also look for returns if the qt. is negative and if they have same invoiceid \n\nclean_df = df[df.StockCode.str.contains('^\\d', regex=True, na=False)]\n\n# Drop quantities which are negative \nclean_df = clean_df[clean_df[\"Quantity\"] >= 0]\n\n#Adding SalesValue column to the Dataframe\nclean_df[\"SalesValue\"] = clean_df[\"Quantity\"]*clean_df[\"UnitPrice\"]\n\n#UK Dataframe\nuk_df = clean_df[clean_df['Country'] == 'United Kingdom']\n\n#Rest of the World Dataframe\nrow_df = clean_df.drop(clean_df[clean_df['Country'] == 'United Kingdom'].index)",
   "outputs": [],
   "execution_count": null
  },
  {
   "cell_type": "code",
   "metadata": {
    "cell_id": "00003-36a8cc55-26b4-4db2-848b-7fa96eba954f",
    "deepnote_cell_type": "code"
   },
   "source": "#Grouping sales by customers\ncustomer_df = clean_df.groupby(by=['CustomerID']).agg({'Quantity':['min', 'max', 'sum'], 'UnitPrice':['min', 'max', 'sum']})\nprint(\"Number of unique customers = \", customer_df.index.size)\n",
   "outputs": [
    {
     "name": "stdout",
     "output_type": "stream",
     "text": "Number of unique customers =  4335\n"
    }
   ],
   "execution_count": null
  },
  {
   "cell_type": "code",
   "metadata": {
    "cell_id": "00004-595aaf49-abf4-4266-ac04-0c8fd754979c",
    "deepnote_cell_type": "code"
   },
   "source": "# Importing Secondary Datasets - Records for year range 2007 to 2011\n# HDI could be additional variable\n# Smartphone penetration dataset if available\n# Credit card \n\n#Purchasing power parity GDP, PPP (constant 2017 international $) | Data (worldbank.org)\ngdp_df = pd.read_excel('API_NY.GDP.MKTP.PP.KD_DS2_en_excel_v2_2764839.xls', \n                       sheet_name=0, header=3, usecols=\"A,B,D,AZ:BD\")\n\n#Inflation CPI Consumer price index (2010 = 100) | Data (worldbank.org)\ncpi_df = pd.read_excel(\"API_FP.CPI.TOTL_DS2_en_excel_v2_2765329.xls\",\n                       sheet_name=0, header=3, usecols=\"A,B,D,AZ:BD\")\n\n#Debt % versus GDP External debt stocks, long-term (DOD, current US$) | Data (worldbank.org)\n#extdebt_df = pd.read_excel(\"API_DT.DOD.DLXF.CD_DS2_en_excel_v2_2823747.xls\",\n#                           sheet_name=0, header=3, usecols=\"A,B,D,AZ:BD\")\n\n#Individuals using the Internet (% of population) \n\ninternet_df = pd.read_excel(\"API_IT.NET.USER.ZS_DS2_en_excel_v2_2764008.xls\",\n                    sheet_name=0, header=3, usecols=\"A,B,D,AZ:BD\")\n\n#Exchange rate fluctuation (L5Y) Official exchange rate (LCU per US$, period average) | Data (worldbank.org)\nexchrate_df = pd.read_excel(\"API_PA.NUS.FCRF_DS2_en_excel_v2_2764464.xls\",\n                            sheet_name=0, header=3, usecols=\"A,B,D,AZ:BD\")\n\n#Population Population, total | Data (worldbank.org)\npop_df = pd.read_excel(\"API_SP.POP.TOTL_DS2_en_excel_v2_2764317.xls\",\n                       sheet_name=0, header=3, usecols=\"A,B,D,AZ:BD\")\n\n#Merchandise imports Merchandise imports (current US$) | Data (worldbank.org)\nmerch_df = pd.read_excel(\"API_TM.VAL.MRCH.CD.WT_DS2_en_excel_v2_2766285.xls\",\n                         sheet_name=0, header=3, usecols=\"A,B,D,AZ:BD\")\n## new dataset\nexpendHealth_df = pd.read_excel(\"Expenditure_on_health.xls\",\n                         sheet_name=0, header=3, usecols=\"A,B,D,AZ:BD\")\n## new dataset\nlifeExpect_df = pd.read_excel(\"life_expectancy.xls\",\n                         sheet_name=0, header=3, usecols=\"A,B,D,AZ:BD\")\n\n## new dataset\nPPP_per_capita_df = pd.read_excel(\"PPP_per_capita.xls\",\n                         sheet_name=0, header=3, usecols=\"A,B,D,AZ:BD\")\n\n#CERDI Sea Distance Dataset\nseadist_df = pd.read_excel(\"CERDI-seadistance.xlsx\", usecols=\"A,B,C\")\n# Cleaning Sea Distance DF to only include entries with UK as the origin\nseadist_df = seadist_df[seadist_df[\"iso1\"]==\"GBR\"]\n",
   "outputs": [],
   "execution_count": null
  },
  {
   "cell_type": "code",
   "metadata": {
    "cell_id": "00005-32192c21-3c4f-483a-b515-5135a9785a6a",
    "deepnote_cell_type": "code"
   },
   "source": "# Function to normalize country names to code that will be used as a key to combine all datasets\ndef valeurs(k):\n    filtered={'United Kingdom': 'GBR',\n 'France': 'FRA',\n 'USA': 'USA',\n 'Belgium': 'BEL',\n 'Australia': 'AUS',\n 'EIRE': 'IRL',\n 'Germany': 'DEU',\n 'Portugal': 'PRT',\n 'Japan': 'JPN',\n 'Denmark': 'DNK',\n 'Nigeria': 'NGA',\n 'Netherlands': 'NLD',\n 'Poland': 'POL',\n 'Spain': 'ESP',\n 'Channel Islands': 'CHI',\n 'Italy': 'ITA',\n 'Cyprus': 'CYP',\n 'Greece': 'GRC',\n 'Norway': 'NOR',\n 'Austria': 'AUT',\n 'Sweden': 'SWE',\n 'United Arab Emirates': 'ARE',\n 'Finland': 'FIN',\n 'Switzerland': 'CHE',\n 'Malta': 'MLT',\n 'Bahrain': 'BHR',\n 'Bermuda': 'BMU',\n 'Hong Kong': 'HKG',\n 'Singapore': 'SGP',\n 'Thailand': 'THA',\n 'Israel': 'ISR',\n 'Lithuania': 'LTU',\n 'Lebanon': 'LBN',\n 'Korea': 'KOR',\n 'Brazil': 'BRA',\n 'Canada': 'CAN',\n 'Iceland': 'ISL'}\n    try:\n        x=filtered[k]\n    except:\n        x=None\n    return x",
   "outputs": [],
   "execution_count": null
  },
  {
   "cell_type": "code",
   "metadata": {
    "cell_id": "00006-ad07ce95-2335-4ed9-8cf0-4926f8f6ce74",
    "deepnote_cell_type": "code"
   },
   "source": "\n# Function to get all the country related information for the analysis task\ndef countrydf(name, frequency=\"M\"):\n    # Country specific local dataframe\n    cdf = clean_df.loc[clean_df[\"Country\"] == name]\n    # Datetime conversion\n    cdf[\"date\"] = pd.to_datetime(cdf.InvoiceDate)\n    # Now lets find cummulative Sales for plot\n    # First lets group by Date to get transaction total per day\n    plotdf = cdf.set_index(\"date\").resample(frequency)['SalesValue'].sum()\n    # Convert series to dataframe\n    plotdf = plotdf.to_frame()\n    # Total sales for the country\n    sales = plotdf[\"SalesValue\"].sum()\n    # DF that conforms to 13 row format if frequency is set to monthly\n    if frequency == \"M\":\n        plotdf = (plotdf + dummydf).fillna(0)\n    # Number of unique customers in the country\n    custcnt = len(cdf[\"CustomerID\"].unique())\n    # Numpy array of unique stock sold in each country\n    uniquestock = cdf[\"StockCode\"].unique() #add .tolist() if list output is desired\n    #Country code\n    code = valeurs(name)\n    #GDP, CPI,  for year 2011\n    gdp = gdp_df.loc[gdp_df[\"Country Code\"] == code, \"2011\"].item()\n    cpi = cpi_df.loc[cpi_df[\"Country Code\"] == code, \"2011\"].item()\n    #exchrate = exchrate_df.loc[exchrate_df[\"Country Code\"] == code, \"2011\"].item()\n    pop = pop_df.loc[pop_df[\"Country Code\"] == code, \"2011\"].item()\n    merch = merch_df.loc[merch_df[\"Country Code\"] == code, \"2011\"].item()\n    internet = internet_df.loc[internet_df[\"Country Code\"] == code, \"2011\"].item()\n    life_expect=lifeExpect_df.loc[internet_df[\"Country Code\"] == code, \"2011\"].item()\n    \n    expend_health = expendHealth_df.loc[internet_df[\"Country Code\"] == code, \"2011\"].item()\n    ppp_capita = PPP_per_capita_df.loc[internet_df[\"Country Code\"] == code, \"2011\"].item()\n\n    \n    \n    #Sea Distance\n    dist = seadist_df.loc[seadist_df[\"iso2\"]==code, \"seadistance\"].item()\n    \n    return {'name':name, 'code':code, 'df':plotdf, 'totalsales':sales, 'customercnt':custcnt, \n            'uniqueStockID': uniquestock, 'gdp':gdp, 'cpi':cpi, 'population':pop, \n            'merchsales': merch, 'internet':internet, 'distance':dist, 'expend_health':expend_health,'ppp_cap':ppp_capita,\n            'life_expect':life_expect}\n\n\n# Creating dummydf to obtain fixed 13 row plotdf\ndummyindex = ['2010-12-31', '2011-01-31', '2011-02-28', '2011-03-31',\n             '2011-04-30', '2011-05-31', '2011-06-30', '2011-07-31',\n             '2011-08-31', '2011-09-30', '2011-10-31', '2011-11-30',\n               '2011-12-31']\ndummyvalues = [0,0,0,0,0,0,0,0,0,0,0,0,0]\ndummydf = pd.DataFrame({'date':dummyindex, 'SalesValue':dummyvalues})\ndummydf = dummydf.set_index('date')\n",
   "outputs": [],
   "execution_count": null
  },
  {
   "cell_type": "code",
   "metadata": {
    "cell_id": "00007-4f74b957-27c8-4f4c-8c7e-0cb7a622d780",
    "deepnote_cell_type": "code"
   },
   "source": "# Creating Final DF that will be used for regression analysis\n# Safe to ignore the SettingWithCopyWarning warning\ncountries = ['Australia','France', 'USA', 'Belgium', 'EIRE', 'Germany', 'Portugal', 'Japan', 'Denmark', 'Nigeria', \\\n    'Netherlands', 'Poland', 'Spain', 'Italy', 'Cyprus', 'Greece','Norway', 'Austria', 'Sweden', \\\n        'United Arab Emirates', 'Finland', 'Switzerland', 'Malta', 'Bahrain', 'Bermuda', 'Hong Kong', \\\n            'Singapore', 'Thailand', 'Israel', 'Lithuania', 'Lebanon', 'Korea', 'Brazil', 'Canada', 'Iceland']\n# Creating list of dictionaries obtained using countrydf function\nfinallist = [countrydf(country) for country in countries]\n# Creating Dataframe from that list\nfinaldf = pd.DataFrame(finallist)\nfinaldf.head(3)\n\nliste={'France': 'FRA',\n 'USA': 'USA',\n 'Belgium': 'BEL',\n 'Australia': 'AUS',\n 'EIRE': 'IRL',\n 'Germany': 'DEU',\n 'Portugal': 'PRT',\n 'Japan': 'JPN',\n 'Denmark': 'DNK',\n 'Nigeria': 'NGA',\n 'Netherlands': 'NLD',\n 'Poland': 'POL',\n 'Spain': 'ESP',\n 'Channel Islands': 'CHI',\n 'Italy': 'ITA',\n 'Cyprus': 'CYP',\n 'Greece': 'GRC',\n 'Norway': 'NOR',\n 'Austria': 'AUT',\n 'Sweden': 'SWE',\n 'United Arab Emirates': 'ARE',\n 'Finland': 'FIN',\n 'Switzerland': 'CHE',\n 'Unspecified': '',\n 'Malta': 'MLT',\n 'Bahrain': 'BHR',\n 'RSA': '',\n 'Bermuda': 'BMU',\n 'Hong Kong': 'HKG',\n 'Singapore': 'SGP',\n 'Thailand': 'THA',\n 'Israel': 'ISR',\n 'Lithuania': 'LTU',\n 'West Indies': '',\n 'Lebanon': 'LBN',\n 'Korea': 'KOR',\n 'Brazil': 'BRA',\n 'Canada': 'CAN',\n 'Iceland': 'ISL'}\nliste=list(liste.keys())\n\nset(countries) ^ set(liste)",
   "outputs": [
    {
     "name": "stderr",
     "output_type": "stream",
     "text": "<ipython-input-55-5aa9c555ed1d>:6: SettingWithCopyWarning: \nA value is trying to be set on a copy of a slice from a DataFrame.\nTry using .loc[row_indexer,col_indexer] = value instead\n\nSee the caveats in the documentation: https://pandas.pydata.org/pandas-docs/stable/user_guide/indexing.html#returning-a-view-versus-a-copy\n  cdf[\"date\"] = pd.to_datetime(cdf.InvoiceDate)\n"
    },
    {
     "data": {
      "text/plain": "{'Channel Islands', 'RSA', 'Unspecified', 'West Indies'}"
     },
     "execution_count": 56,
     "metadata": {},
     "output_type": "execute_result"
    }
   ],
   "execution_count": null
  },
  {
   "cell_type": "code",
   "metadata": {
    "cell_id": "00008-4881859e-e931-42a2-9104-cf0870ebbe6d",
    "deepnote_cell_type": "code"
   },
   "source": "finaldf.columns",
   "outputs": [
    {
     "data": {
      "text/plain": "Index(['name', 'code', 'df', 'totalsales', 'customercnt', 'uniqueStockID',\n       'gdp', 'cpi', 'population', 'merchsales', 'internet', 'distance',\n       'expend_health', 'ppp_cap', 'life_expect'],\n      dtype='object')"
     },
     "execution_count": 57,
     "metadata": {},
     "output_type": "execute_result"
    }
   ],
   "execution_count": null
  },
  {
   "cell_type": "code",
   "metadata": {
    "cell_id": "00009-7781d7d3-c98d-41fc-b395-22de1e3e7322",
    "deepnote_cell_type": "code"
   },
   "source": "sales=finaldf.df\nsales",
   "outputs": [
    {
     "data": {
      "text/plain": "0                 SalesValue\ndate                  \n...\n1                 SalesValue\ndate                  \n...\n2                 SalesValue\ndate                  \n...\n3                 SalesValue\ndate                  \n...\n4                 SalesValue\ndate                  \n...\n5                 SalesValue\ndate                  \n...\n6                 SalesValue\ndate                  \n...\n7                 SalesValue\ndate                  \n...\n8                 SalesValue\ndate                  \n...\n9                 SalesValue\ndate                  \n...\n10                SalesValue\ndate                  \n...\n11                SalesValue\ndate                  \n...\n12                SalesValue\ndate                  \n...\n13                SalesValue\ndate                  \n...\n14                SalesValue\ndate                  \n...\n15                SalesValue\ndate                  \n...\n16                SalesValue\ndate                  \n...\n17                SalesValue\ndate                  \n...\n18                SalesValue\ndate                  \n...\n19                SalesValue\ndate                  \n...\n20                SalesValue\ndate                  \n...\n21                SalesValue\ndate                  \n...\n22                SalesValue\ndate                  \n...\n23                SalesValue\ndate                  \n...\n24                SalesValue\ndate                  \n...\n25                SalesValue\ndate                  \n...\n26                SalesValue\ndate                  \n...\n27                SalesValue\ndate                  \n...\n28                SalesValue\ndate                  \n...\n29                SalesValue\ndate                  \n...\n30                SalesValue\ndate                  \n...\n31                SalesValue\ndate                  \n...\n32                SalesValue\ndate                  \n...\n33                SalesValue\ndate                  \n...\n34                SalesValue\ndate                  \n...\nName: df, dtype: object"
     },
     "execution_count": 58,
     "metadata": {},
     "output_type": "execute_result"
    }
   ],
   "execution_count": null
  },
  {
   "cell_type": "code",
   "metadata": {
    "cell_id": "00010-31094ed7-487d-454a-a0b7-78aac2096310",
    "deepnote_cell_type": "code"
   },
   "source": "#Example of how to extract Monthly Sales data for each country\n# In this example, we will use Canada and for that code is \"CAN\"\nexample = finaldf.loc[finaldf[\"code\"]=='CAN', 'df'].item()\nexample ",
   "outputs": [
    {
     "data": {
      "text/html": "<div>\n<style scoped>\n    .dataframe tbody tr th:only-of-type {\n        vertical-align: middle;\n    }\n\n    .dataframe tbody tr th {\n        vertical-align: top;\n    }\n\n    .dataframe thead th {\n        text-align: right;\n    }\n</style>\n<table border=\"1\" class=\"dataframe\">\n  <thead>\n    <tr style=\"text-align: right;\">\n      <th></th>\n      <th>SalesValue</th>\n    </tr>\n    <tr>\n      <th>date</th>\n      <th></th>\n    </tr>\n  </thead>\n  <tbody>\n    <tr>\n      <th>2010-12-31</th>\n      <td>0.00</td>\n    </tr>\n    <tr>\n      <th>2011-01-31</th>\n      <td>0.00</td>\n    </tr>\n    <tr>\n      <th>2011-02-28</th>\n      <td>0.00</td>\n    </tr>\n    <tr>\n      <th>2011-03-31</th>\n      <td>140.54</td>\n    </tr>\n    <tr>\n      <th>2011-04-30</th>\n      <td>0.00</td>\n    </tr>\n    <tr>\n      <th>2011-05-31</th>\n      <td>534.24</td>\n    </tr>\n    <tr>\n      <th>2011-06-30</th>\n      <td>1171.46</td>\n    </tr>\n    <tr>\n      <th>2011-07-31</th>\n      <td>1217.64</td>\n    </tr>\n    <tr>\n      <th>2011-08-31</th>\n      <td>51.56</td>\n    </tr>\n    <tr>\n      <th>2011-09-30</th>\n      <td>0.00</td>\n    </tr>\n    <tr>\n      <th>2011-10-31</th>\n      <td>0.00</td>\n    </tr>\n    <tr>\n      <th>2011-11-30</th>\n      <td>0.00</td>\n    </tr>\n    <tr>\n      <th>2011-12-31</th>\n      <td>0.00</td>\n    </tr>\n  </tbody>\n</table>\n</div>",
      "text/plain": "            SalesValue\ndate                  \n2010-12-31        0.00\n2011-01-31        0.00\n2011-02-28        0.00\n2011-03-31      140.54\n2011-04-30        0.00\n2011-05-31      534.24\n2011-06-30     1171.46\n2011-07-31     1217.64\n2011-08-31       51.56\n2011-09-30        0.00\n2011-10-31        0.00\n2011-11-30        0.00\n2011-12-31        0.00"
     },
     "execution_count": 59,
     "metadata": {},
     "output_type": "execute_result"
    }
   ],
   "execution_count": null
  },
  {
   "cell_type": "code",
   "metadata": {
    "cell_id": "00011-b6d54e9e-6f0b-4d20-83c3-442718806fa5",
    "deepnote_cell_type": "code"
   },
   "source": "# cols=table.columns.difference(['count'])\n# cols=['2009-12', '2010-01', '2010-02', '2010-03', '2010-04', '2010-05',\n#       '2010-06', '2010-07', '2010-08', '2010-09', '2010-10', '2010-11',\n#       '2010-12']",
   "outputs": [],
   "execution_count": null
  },
  {
   "cell_type": "code",
   "metadata": {
    "cell_id": "00012-741f36d3-0a74-4d60-9972-9cc6fb4d06f4",
    "deepnote_cell_type": "code"
   },
   "source": "##table['count'] = table[table[cols] > 0].count(axis=1)\n#table_short=table[table['count']>=7].copy()\n\n# convert negative values to zero\n#table_short[table_short < 0] = 0\n# table_short.astype(int)",
   "outputs": [],
   "execution_count": null
  },
  {
   "cell_type": "code",
   "metadata": {
    "cell_id": "00013-7a2a0dfb-95af-4ba9-ad89-8f9d3250adb6",
    "deepnote_cell_type": "code"
   },
   "source": "### EXPAND sales by month for each country. \n## add a column that \n\ntable",
   "outputs": [
    {
     "data": {
      "text/html": "<div>\n<style scoped>\n    .dataframe tbody tr th:only-of-type {\n        vertical-align: middle;\n    }\n\n    .dataframe tbody tr th {\n        vertical-align: top;\n    }\n\n    .dataframe thead th {\n        text-align: right;\n    }\n</style>\n<table border=\"1\" class=\"dataframe\">\n  <thead>\n    <tr style=\"text-align: right;\">\n      <th></th>\n      <th>name</th>\n      <th>df</th>\n      <th>totalsales</th>\n    </tr>\n  </thead>\n  <tbody>\n    <tr>\n      <th>0</th>\n      <td>Australia</td>\n      <td>SalesValue\ndate                  \n...</td>\n      <td>138171.31</td>\n    </tr>\n    <tr>\n      <th>1</th>\n      <td>France</td>\n      <td>SalesValue\ndate                  \n...</td>\n      <td>184582.74</td>\n    </tr>\n    <tr>\n      <th>2</th>\n      <td>USA</td>\n      <td>SalesValue\ndate                  \n...</td>\n      <td>3580.39</td>\n    </tr>\n    <tr>\n      <th>3</th>\n      <td>Belgium</td>\n      <td>SalesValue\ndate                  \n...</td>\n      <td>36927.34</td>\n    </tr>\n    <tr>\n      <th>4</th>\n      <td>EIRE</td>\n      <td>SalesValue\ndate                  \n...</td>\n      <td>271164.30</td>\n    </tr>\n    <tr>\n      <th>5</th>\n      <td>Germany</td>\n      <td>SalesValue\ndate                  \n...</td>\n      <td>205569.89</td>\n    </tr>\n    <tr>\n      <th>6</th>\n      <td>Portugal</td>\n      <td>SalesValue\ndate                  \n...</td>\n      <td>27015.16</td>\n    </tr>\n    <tr>\n      <th>7</th>\n      <td>Japan</td>\n      <td>SalesValue\ndate                  \n...</td>\n      <td>37416.37</td>\n    </tr>\n    <tr>\n      <th>8</th>\n      <td>Denmark</td>\n      <td>SalesValue\ndate                  \n...</td>\n      <td>18211.34</td>\n    </tr>\n    <tr>\n      <th>9</th>\n      <td>Nigeria</td>\n      <td>SalesValue\ndate                  \n...</td>\n      <td>0.00</td>\n    </tr>\n    <tr>\n      <th>10</th>\n      <td>Netherlands</td>\n      <td>SalesValue\ndate                  \n...</td>\n      <td>283889.34</td>\n    </tr>\n    <tr>\n      <th>11</th>\n      <td>Poland</td>\n      <td>SalesValue\ndate                  \n...</td>\n      <td>6974.65</td>\n    </tr>\n    <tr>\n      <th>12</th>\n      <td>Spain</td>\n      <td>SalesValue\ndate                  \n...</td>\n      <td>55725.11</td>\n    </tr>\n    <tr>\n      <th>13</th>\n      <td>Italy</td>\n      <td>SalesValue\ndate                  \n...</td>\n      <td>15820.24</td>\n    </tr>\n    <tr>\n      <th>14</th>\n      <td>Cyprus</td>\n      <td>SalesValue\ndate                  \n...</td>\n      <td>13254.69</td>\n    </tr>\n    <tr>\n      <th>15</th>\n      <td>Greece</td>\n      <td>SalesValue\ndate                  \n...</td>\n      <td>4425.52</td>\n    </tr>\n    <tr>\n      <th>16</th>\n      <td>Norway</td>\n      <td>SalesValue\ndate                  \n...</td>\n      <td>32454.64</td>\n    </tr>\n    <tr>\n      <th>17</th>\n      <td>Austria</td>\n      <td>SalesValue\ndate                  \n...</td>\n      <td>8742.68</td>\n    </tr>\n    <tr>\n      <th>18</th>\n      <td>Sweden</td>\n      <td>SalesValue\ndate                  \n...</td>\n      <td>36839.33</td>\n    </tr>\n    <tr>\n      <th>19</th>\n      <td>United Arab Emirates</td>\n      <td>SalesValue\ndate                  \n...</td>\n      <td>1864.78</td>\n    </tr>\n    <tr>\n      <th>20</th>\n      <td>Finland</td>\n      <td>SalesValue\ndate                  \n...</td>\n      <td>18344.88</td>\n    </tr>\n    <tr>\n      <th>21</th>\n      <td>Switzerland</td>\n      <td>SalesValue\ndate                  \n...</td>\n      <td>53087.90</td>\n    </tr>\n    <tr>\n      <th>22</th>\n      <td>Malta</td>\n      <td>SalesValue\ndate                  \n...</td>\n      <td>2070.59</td>\n    </tr>\n    <tr>\n      <th>23</th>\n      <td>Bahrain</td>\n      <td>SalesValue\ndate                  \n...</td>\n      <td>754.14</td>\n    </tr>\n    <tr>\n      <th>24</th>\n      <td>Bermuda</td>\n      <td>SalesValue\ndate                  \n...</td>\n      <td>0.00</td>\n    </tr>\n    <tr>\n      <th>25</th>\n      <td>Hong Kong</td>\n      <td>SalesValue\ndate                  \n...</td>\n      <td>9952.99</td>\n    </tr>\n    <tr>\n      <th>26</th>\n      <td>Singapore</td>\n      <td>SalesValue\ndate                  \n...</td>\n      <td>9120.39</td>\n    </tr>\n    <tr>\n      <th>27</th>\n      <td>Thailand</td>\n      <td>SalesValue\ndate                  \n...</td>\n      <td>0.00</td>\n    </tr>\n    <tr>\n      <th>28</th>\n      <td>Israel</td>\n      <td>SalesValue\ndate                  \n...</td>\n      <td>8135.26</td>\n    </tr>\n    <tr>\n      <th>29</th>\n      <td>Lithuania</td>\n      <td>SalesValue\ndate                  \n...</td>\n      <td>1661.06</td>\n    </tr>\n    <tr>\n      <th>30</th>\n      <td>Lebanon</td>\n      <td>SalesValue\ndate                  \n...</td>\n      <td>1693.88</td>\n    </tr>\n    <tr>\n      <th>31</th>\n      <td>Korea</td>\n      <td>SalesValue\ndate                  \n...</td>\n      <td>0.00</td>\n    </tr>\n    <tr>\n      <th>32</th>\n      <td>Brazil</td>\n      <td>SalesValue\ndate                  \n...</td>\n      <td>1143.60</td>\n    </tr>\n    <tr>\n      <th>33</th>\n      <td>Canada</td>\n      <td>SalesValue\ndate                  \n...</td>\n      <td>3115.44</td>\n    </tr>\n    <tr>\n      <th>34</th>\n      <td>Iceland</td>\n      <td>SalesValue\ndate                  \n...</td>\n      <td>4310.00</td>\n    </tr>\n  </tbody>\n</table>\n</div>",
      "text/plain": "                    name                                                 df  \\\n0              Australia              SalesValue\ndate                  \n...   \n1                 France              SalesValue\ndate                  \n...   \n2                    USA              SalesValue\ndate                  \n...   \n3                Belgium              SalesValue\ndate                  \n...   \n4                   EIRE              SalesValue\ndate                  \n...   \n5                Germany              SalesValue\ndate                  \n...   \n6               Portugal              SalesValue\ndate                  \n...   \n7                  Japan              SalesValue\ndate                  \n...   \n8                Denmark              SalesValue\ndate                  \n...   \n9                Nigeria              SalesValue\ndate                  \n...   \n10           Netherlands              SalesValue\ndate                  \n...   \n11                Poland              SalesValue\ndate                  \n...   \n12                 Spain              SalesValue\ndate                  \n...   \n13                 Italy              SalesValue\ndate                  \n...   \n14                Cyprus              SalesValue\ndate                  \n...   \n15                Greece              SalesValue\ndate                  \n...   \n16                Norway              SalesValue\ndate                  \n...   \n17               Austria              SalesValue\ndate                  \n...   \n18                Sweden              SalesValue\ndate                  \n...   \n19  United Arab Emirates              SalesValue\ndate                  \n...   \n20               Finland              SalesValue\ndate                  \n...   \n21           Switzerland              SalesValue\ndate                  \n...   \n22                 Malta              SalesValue\ndate                  \n...   \n23               Bahrain              SalesValue\ndate                  \n...   \n24               Bermuda              SalesValue\ndate                  \n...   \n25             Hong Kong              SalesValue\ndate                  \n...   \n26             Singapore              SalesValue\ndate                  \n...   \n27              Thailand              SalesValue\ndate                  \n...   \n28                Israel              SalesValue\ndate                  \n...   \n29             Lithuania              SalesValue\ndate                  \n...   \n30               Lebanon              SalesValue\ndate                  \n...   \n31                 Korea              SalesValue\ndate                  \n...   \n32                Brazil              SalesValue\ndate                  \n...   \n33                Canada              SalesValue\ndate                  \n...   \n34               Iceland              SalesValue\ndate                  \n...   \n\n    totalsales  \n0    138171.31  \n1    184582.74  \n2      3580.39  \n3     36927.34  \n4    271164.30  \n5    205569.89  \n6     27015.16  \n7     37416.37  \n8     18211.34  \n9         0.00  \n10   283889.34  \n11     6974.65  \n12    55725.11  \n13    15820.24  \n14    13254.69  \n15     4425.52  \n16    32454.64  \n17     8742.68  \n18    36839.33  \n19     1864.78  \n20    18344.88  \n21    53087.90  \n22     2070.59  \n23      754.14  \n24        0.00  \n25     9952.99  \n26     9120.39  \n27        0.00  \n28     8135.26  \n29     1661.06  \n30     1693.88  \n31        0.00  \n32     1143.60  \n33     3115.44  \n34     4310.00  "
     },
     "execution_count": 78,
     "metadata": {},
     "output_type": "execute_result"
    }
   ],
   "execution_count": null
  },
  {
   "cell_type": "code",
   "metadata": {
    "cell_id": "00014-bc3e64bf-6605-4a4c-b4a5-da896ce4c05c",
    "deepnote_cell_type": "code"
   },
   "source": "finaldf.head()",
   "outputs": [
    {
     "data": {
      "text/html": "<div>\n<style scoped>\n    .dataframe tbody tr th:only-of-type {\n        vertical-align: middle;\n    }\n\n    .dataframe tbody tr th {\n        vertical-align: top;\n    }\n\n    .dataframe thead th {\n        text-align: right;\n    }\n</style>\n<table border=\"1\" class=\"dataframe\">\n  <thead>\n    <tr style=\"text-align: right;\">\n      <th></th>\n      <th>name</th>\n      <th>code</th>\n      <th>df</th>\n      <th>totalsales</th>\n      <th>customercnt</th>\n      <th>uniqueStockID</th>\n      <th>gdp</th>\n      <th>cpi</th>\n      <th>population</th>\n      <th>merchsales</th>\n      <th>internet</th>\n      <th>distance</th>\n      <th>expend_health</th>\n      <th>ppp_cap</th>\n      <th>life_expect</th>\n    </tr>\n  </thead>\n  <tbody>\n    <tr>\n      <th>0</th>\n      <td>Australia</td>\n      <td>AUS</td>\n      <td>SalesValue\ndate                  \n...</td>\n      <td>138171.31</td>\n      <td>9</td>\n      <td>[22941, 21622, 21791, 35004C, 35004G, 85014B, ...</td>\n      <td>1.015660e+12</td>\n      <td>103.303850</td>\n      <td>22340024.0</td>\n      <td>2.437010e+11</td>\n      <td>79.487698</td>\n      <td>20225.200</td>\n      <td>4.508153</td>\n      <td>13905.245764</td>\n      <td>71.234</td>\n    </tr>\n    <tr>\n      <th>1</th>\n      <td>France</td>\n      <td>FRA</td>\n      <td>SalesValue\ndate                  \n...</td>\n      <td>184582.74</td>\n      <td>88</td>\n      <td>[22728, 22727, 22726, 21724, 21883, 10002, 217...</td>\n      <td>2.800855e+12</td>\n      <td>102.111598</td>\n      <td>65342789.0</td>\n      <td>7.200280e+11</td>\n      <td>77.819999</td>\n      <td>3224.950</td>\n      <td>13.095275</td>\n      <td>3765.150290</td>\n      <td>66.646</td>\n    </tr>\n    <tr>\n      <th>2</th>\n      <td>USA</td>\n      <td>USA</td>\n      <td>SalesValue\ndate                  \n...</td>\n      <td>3580.39</td>\n      <td>4</td>\n      <td>[22722, 22979, 84987, 22720, 22993, 47580, 229...</td>\n      <td>1.706195e+13</td>\n      <td>103.156842</td>\n      <td>311583481.0</td>\n      <td>2.266024e+12</td>\n      <td>69.729461</td>\n      <td>7767.240</td>\n      <td>4.465111</td>\n      <td>11393.574239</td>\n      <td>71.827</td>\n    </tr>\n    <tr>\n      <th>3</th>\n      <td>Belgium</td>\n      <td>BEL</td>\n      <td>SalesValue\ndate                  \n...</td>\n      <td>36927.34</td>\n      <td>25</td>\n      <td>[84375, 21217, 21212, 21977, 22417, 21975, 219...</td>\n      <td>5.315359e+11</td>\n      <td>103.532082</td>\n      <td>11038264.0</td>\n      <td>4.669430e+11</td>\n      <td>81.609996</td>\n      <td>323.696</td>\n      <td>5.229733</td>\n      <td>1784.619497</td>\n      <td>57.761</td>\n    </tr>\n    <tr>\n      <th>4</th>\n      <td>EIRE</td>\n      <td>IRL</td>\n      <td>SalesValue\ndate                  \n...</td>\n      <td>271164.30</td>\n      <td>4</td>\n      <td>[22968, 85071A, 85071C, 22355, 21579, 21576, 2...</td>\n      <td>2.464671e+11</td>\n      <td>102.557189</td>\n      <td>4580084.0</td>\n      <td>6.660600e+10</td>\n      <td>74.889973</td>\n      <td>734.066</td>\n      <td>2.791318</td>\n      <td>9435.590356</td>\n      <td>68.848</td>\n    </tr>\n  </tbody>\n</table>\n</div>",
      "text/plain": "        name code                                                 df  \\\n0  Australia  AUS              SalesValue\ndate                  \n...   \n1     France  FRA              SalesValue\ndate                  \n...   \n2        USA  USA              SalesValue\ndate                  \n...   \n3    Belgium  BEL              SalesValue\ndate                  \n...   \n4       EIRE  IRL              SalesValue\ndate                  \n...   \n\n   totalsales  customercnt                                      uniqueStockID  \\\n0   138171.31            9  [22941, 21622, 21791, 35004C, 35004G, 85014B, ...   \n1   184582.74           88  [22728, 22727, 22726, 21724, 21883, 10002, 217...   \n2     3580.39            4  [22722, 22979, 84987, 22720, 22993, 47580, 229...   \n3    36927.34           25  [84375, 21217, 21212, 21977, 22417, 21975, 219...   \n4   271164.30            4  [22968, 85071A, 85071C, 22355, 21579, 21576, 2...   \n\n            gdp         cpi   population    merchsales   internet   distance  \\\n0  1.015660e+12  103.303850   22340024.0  2.437010e+11  79.487698  20225.200   \n1  2.800855e+12  102.111598   65342789.0  7.200280e+11  77.819999   3224.950   \n2  1.706195e+13  103.156842  311583481.0  2.266024e+12  69.729461   7767.240   \n3  5.315359e+11  103.532082   11038264.0  4.669430e+11  81.609996    323.696   \n4  2.464671e+11  102.557189    4580084.0  6.660600e+10  74.889973    734.066   \n\n   expend_health       ppp_cap  life_expect  \n0       4.508153  13905.245764       71.234  \n1      13.095275   3765.150290       66.646  \n2       4.465111  11393.574239       71.827  \n3       5.229733   1784.619497       57.761  \n4       2.791318   9435.590356       68.848  "
     },
     "execution_count": 60,
     "metadata": {},
     "output_type": "execute_result"
    }
   ],
   "execution_count": null
  },
  {
   "cell_type": "code",
   "metadata": {
    "cell_id": "00015-80cb7f34-9d71-4d1f-8fb9-c0c927377da7",
    "deepnote_cell_type": "code"
   },
   "source": "",
   "outputs": [],
   "execution_count": null
  },
  {
   "cell_type": "code",
   "metadata": {
    "cell_id": "00016-b977b553-dcb1-42e1-bd28-272739afe346",
    "deepnote_cell_type": "code"
   },
   "source": "",
   "outputs": [
    {
     "data": {
      "text/html": "<div>\n<style scoped>\n    .dataframe tbody tr th:only-of-type {\n        vertical-align: middle;\n    }\n\n    .dataframe tbody tr th {\n        vertical-align: top;\n    }\n\n    .dataframe thead th {\n        text-align: right;\n    }\n</style>\n<table border=\"1\" class=\"dataframe\">\n  <thead>\n    <tr style=\"text-align: right;\">\n      <th></th>\n      <th>name</th>\n      <th>df</th>\n      <th>totalsales</th>\n    </tr>\n  </thead>\n  <tbody>\n    <tr>\n      <th>0</th>\n      <td>Australia</td>\n      <td>SalesValue\ndate                  \n...</td>\n      <td>138171.31</td>\n    </tr>\n    <tr>\n      <th>1</th>\n      <td>France</td>\n      <td>SalesValue\ndate                  \n...</td>\n      <td>184582.74</td>\n    </tr>\n    <tr>\n      <th>2</th>\n      <td>USA</td>\n      <td>SalesValue\ndate                  \n...</td>\n      <td>3580.39</td>\n    </tr>\n    <tr>\n      <th>3</th>\n      <td>Belgium</td>\n      <td>SalesValue\ndate                  \n...</td>\n      <td>36927.34</td>\n    </tr>\n    <tr>\n      <th>4</th>\n      <td>EIRE</td>\n      <td>SalesValue\ndate                  \n...</td>\n      <td>271164.30</td>\n    </tr>\n    <tr>\n      <th>5</th>\n      <td>Germany</td>\n      <td>SalesValue\ndate                  \n...</td>\n      <td>205569.89</td>\n    </tr>\n    <tr>\n      <th>6</th>\n      <td>Portugal</td>\n      <td>SalesValue\ndate                  \n...</td>\n      <td>27015.16</td>\n    </tr>\n    <tr>\n      <th>7</th>\n      <td>Japan</td>\n      <td>SalesValue\ndate                  \n...</td>\n      <td>37416.37</td>\n    </tr>\n    <tr>\n      <th>8</th>\n      <td>Denmark</td>\n      <td>SalesValue\ndate                  \n...</td>\n      <td>18211.34</td>\n    </tr>\n    <tr>\n      <th>9</th>\n      <td>Nigeria</td>\n      <td>SalesValue\ndate                  \n...</td>\n      <td>0.00</td>\n    </tr>\n    <tr>\n      <th>10</th>\n      <td>Netherlands</td>\n      <td>SalesValue\ndate                  \n...</td>\n      <td>283889.34</td>\n    </tr>\n    <tr>\n      <th>11</th>\n      <td>Poland</td>\n      <td>SalesValue\ndate                  \n...</td>\n      <td>6974.65</td>\n    </tr>\n    <tr>\n      <th>12</th>\n      <td>Spain</td>\n      <td>SalesValue\ndate                  \n...</td>\n      <td>55725.11</td>\n    </tr>\n    <tr>\n      <th>13</th>\n      <td>Italy</td>\n      <td>SalesValue\ndate                  \n...</td>\n      <td>15820.24</td>\n    </tr>\n    <tr>\n      <th>14</th>\n      <td>Cyprus</td>\n      <td>SalesValue\ndate                  \n...</td>\n      <td>13254.69</td>\n    </tr>\n    <tr>\n      <th>15</th>\n      <td>Greece</td>\n      <td>SalesValue\ndate                  \n...</td>\n      <td>4425.52</td>\n    </tr>\n    <tr>\n      <th>16</th>\n      <td>Norway</td>\n      <td>SalesValue\ndate                  \n...</td>\n      <td>32454.64</td>\n    </tr>\n    <tr>\n      <th>17</th>\n      <td>Austria</td>\n      <td>SalesValue\ndate                  \n...</td>\n      <td>8742.68</td>\n    </tr>\n    <tr>\n      <th>18</th>\n      <td>Sweden</td>\n      <td>SalesValue\ndate                  \n...</td>\n      <td>36839.33</td>\n    </tr>\n    <tr>\n      <th>19</th>\n      <td>United Arab Emirates</td>\n      <td>SalesValue\ndate                  \n...</td>\n      <td>1864.78</td>\n    </tr>\n    <tr>\n      <th>20</th>\n      <td>Finland</td>\n      <td>SalesValue\ndate                  \n...</td>\n      <td>18344.88</td>\n    </tr>\n    <tr>\n      <th>21</th>\n      <td>Switzerland</td>\n      <td>SalesValue\ndate                  \n...</td>\n      <td>53087.90</td>\n    </tr>\n    <tr>\n      <th>22</th>\n      <td>Malta</td>\n      <td>SalesValue\ndate                  \n...</td>\n      <td>2070.59</td>\n    </tr>\n    <tr>\n      <th>23</th>\n      <td>Bahrain</td>\n      <td>SalesValue\ndate                  \n...</td>\n      <td>754.14</td>\n    </tr>\n    <tr>\n      <th>24</th>\n      <td>Bermuda</td>\n      <td>SalesValue\ndate                  \n...</td>\n      <td>0.00</td>\n    </tr>\n    <tr>\n      <th>25</th>\n      <td>Hong Kong</td>\n      <td>SalesValue\ndate                  \n...</td>\n      <td>9952.99</td>\n    </tr>\n    <tr>\n      <th>26</th>\n      <td>Singapore</td>\n      <td>SalesValue\ndate                  \n...</td>\n      <td>9120.39</td>\n    </tr>\n    <tr>\n      <th>27</th>\n      <td>Thailand</td>\n      <td>SalesValue\ndate                  \n...</td>\n      <td>0.00</td>\n    </tr>\n    <tr>\n      <th>28</th>\n      <td>Israel</td>\n      <td>SalesValue\ndate                  \n...</td>\n      <td>8135.26</td>\n    </tr>\n    <tr>\n      <th>29</th>\n      <td>Lithuania</td>\n      <td>SalesValue\ndate                  \n...</td>\n      <td>1661.06</td>\n    </tr>\n    <tr>\n      <th>30</th>\n      <td>Lebanon</td>\n      <td>SalesValue\ndate                  \n...</td>\n      <td>1693.88</td>\n    </tr>\n    <tr>\n      <th>31</th>\n      <td>Korea</td>\n      <td>SalesValue\ndate                  \n...</td>\n      <td>0.00</td>\n    </tr>\n    <tr>\n      <th>32</th>\n      <td>Brazil</td>\n      <td>SalesValue\ndate                  \n...</td>\n      <td>1143.60</td>\n    </tr>\n    <tr>\n      <th>33</th>\n      <td>Canada</td>\n      <td>SalesValue\ndate                  \n...</td>\n      <td>3115.44</td>\n    </tr>\n    <tr>\n      <th>34</th>\n      <td>Iceland</td>\n      <td>SalesValue\ndate                  \n...</td>\n      <td>4310.00</td>\n    </tr>\n  </tbody>\n</table>\n</div>",
      "text/plain": "                    name                                                 df  \\\n0              Australia              SalesValue\ndate                  \n...   \n1                 France              SalesValue\ndate                  \n...   \n2                    USA              SalesValue\ndate                  \n...   \n3                Belgium              SalesValue\ndate                  \n...   \n4                   EIRE              SalesValue\ndate                  \n...   \n5                Germany              SalesValue\ndate                  \n...   \n6               Portugal              SalesValue\ndate                  \n...   \n7                  Japan              SalesValue\ndate                  \n...   \n8                Denmark              SalesValue\ndate                  \n...   \n9                Nigeria              SalesValue\ndate                  \n...   \n10           Netherlands              SalesValue\ndate                  \n...   \n11                Poland              SalesValue\ndate                  \n...   \n12                 Spain              SalesValue\ndate                  \n...   \n13                 Italy              SalesValue\ndate                  \n...   \n14                Cyprus              SalesValue\ndate                  \n...   \n15                Greece              SalesValue\ndate                  \n...   \n16                Norway              SalesValue\ndate                  \n...   \n17               Austria              SalesValue\ndate                  \n...   \n18                Sweden              SalesValue\ndate                  \n...   \n19  United Arab Emirates              SalesValue\ndate                  \n...   \n20               Finland              SalesValue\ndate                  \n...   \n21           Switzerland              SalesValue\ndate                  \n...   \n22                 Malta              SalesValue\ndate                  \n...   \n23               Bahrain              SalesValue\ndate                  \n...   \n24               Bermuda              SalesValue\ndate                  \n...   \n25             Hong Kong              SalesValue\ndate                  \n...   \n26             Singapore              SalesValue\ndate                  \n...   \n27              Thailand              SalesValue\ndate                  \n...   \n28                Israel              SalesValue\ndate                  \n...   \n29             Lithuania              SalesValue\ndate                  \n...   \n30               Lebanon              SalesValue\ndate                  \n...   \n31                 Korea              SalesValue\ndate                  \n...   \n32                Brazil              SalesValue\ndate                  \n...   \n33                Canada              SalesValue\ndate                  \n...   \n34               Iceland              SalesValue\ndate                  \n...   \n\n    totalsales  \n0    138171.31  \n1    184582.74  \n2      3580.39  \n3     36927.34  \n4    271164.30  \n5    205569.89  \n6     27015.16  \n7     37416.37  \n8     18211.34  \n9         0.00  \n10   283889.34  \n11     6974.65  \n12    55725.11  \n13    15820.24  \n14    13254.69  \n15     4425.52  \n16    32454.64  \n17     8742.68  \n18    36839.33  \n19     1864.78  \n20    18344.88  \n21    53087.90  \n22     2070.59  \n23      754.14  \n24        0.00  \n25     9952.99  \n26     9120.39  \n27        0.00  \n28     8135.26  \n29     1661.06  \n30     1693.88  \n31        0.00  \n32     1143.60  \n33     3115.44  \n34     4310.00  "
     },
     "execution_count": 76,
     "metadata": {},
     "output_type": "execute_result"
    }
   ],
   "execution_count": null
  },
  {
   "cell_type": "code",
   "metadata": {
    "cell_id": "00017-f1b495b3-dee6-4a44-9ca4-4806b762bf35",
    "deepnote_cell_type": "code"
   },
   "source": "finaldf.columns",
   "outputs": [
    {
     "data": {
      "text/plain": "Index(['name', 'code', 'df', 'totalsales', 'customercnt', 'uniqueStockID',\n       'gdp', 'cpi', 'population', 'merchsales', 'internet', 'distance',\n       'expend_health', 'ppp_cap', 'life_expect'],\n      dtype='object')"
     },
     "execution_count": 61,
     "metadata": {},
     "output_type": "execute_result"
    }
   ],
   "execution_count": null
  },
  {
   "cell_type": "code",
   "metadata": {
    "cell_id": "00018-67a08b61-8648-4fe9-9ffb-a483ba6692f3",
    "deepnote_cell_type": "code"
   },
   "source": "# Establishing factors list\nliste_factores=['gdp', 'cpi', 'population', 'merchsales', 'internet', 'distance',\n       'expend_health', 'ppp_cap', 'life_expect']\n# liste_factores.append('distance')\nprint(liste_factores)",
   "outputs": [
    {
     "name": "stdout",
     "output_type": "stream",
     "text": "['gdp', 'cpi', 'population', 'merchsales', 'internet', 'distance', 'expend_health', 'ppp_cap', 'life_expect']\n"
    }
   ],
   "execution_count": null
  },
  {
   "cell_type": "code",
   "metadata": {
    "cell_id": "00019-ac78398f-4d6d-45c8-997d-0e7804fafbc3",
    "deepnote_cell_type": "code"
   },
   "source": "da=finaldf[['name','totalsales','gdp', 'cpi', 'population', 'merchsales', 'internet', 'distance',\n       'expend_health', 'ppp_cap', 'life_expect']]",
   "outputs": [],
   "execution_count": null
  },
  {
   "cell_type": "code",
   "metadata": {
    "cell_id": "00020-b7b40d19-d33d-4666-be4a-029089058b6c",
    "deepnote_cell_type": "code"
   },
   "source": "corr=da[['totalsales','gdp', 'cpi', 'population', 'merchsales', 'internet', 'distance',\n       'expend_health', 'ppp_cap', 'life_expect']].corr().round(2)\ncorr.style.background_gradient(cmap='coolwarm')",
   "outputs": [
    {
     "data": {
      "text/html": "<style  type=\"text/css\" >\n#T_1246ebd1_05e9_11ec_b9fa_502f9bcb9561row0_col0,#T_1246ebd1_05e9_11ec_b9fa_502f9bcb9561row1_col1,#T_1246ebd1_05e9_11ec_b9fa_502f9bcb9561row2_col2,#T_1246ebd1_05e9_11ec_b9fa_502f9bcb9561row3_col3,#T_1246ebd1_05e9_11ec_b9fa_502f9bcb9561row4_col4,#T_1246ebd1_05e9_11ec_b9fa_502f9bcb9561row5_col5,#T_1246ebd1_05e9_11ec_b9fa_502f9bcb9561row6_col6,#T_1246ebd1_05e9_11ec_b9fa_502f9bcb9561row7_col7,#T_1246ebd1_05e9_11ec_b9fa_502f9bcb9561row8_col8,#T_1246ebd1_05e9_11ec_b9fa_502f9bcb9561row9_col9{\n            background-color:  #b40426;\n            color:  #f1f1f1;\n        }#T_1246ebd1_05e9_11ec_b9fa_502f9bcb9561row0_col1{\n            background-color:  #779af7;\n            color:  #000000;\n        }#T_1246ebd1_05e9_11ec_b9fa_502f9bcb9561row0_col2{\n            background-color:  #86a9fc;\n            color:  #000000;\n        }#T_1246ebd1_05e9_11ec_b9fa_502f9bcb9561row0_col3{\n            background-color:  #84a7fc;\n            color:  #000000;\n        }#T_1246ebd1_05e9_11ec_b9fa_502f9bcb9561row0_col4{\n            background-color:  #b9d0f9;\n            color:  #000000;\n        }#T_1246ebd1_05e9_11ec_b9fa_502f9bcb9561row0_col5,#T_1246ebd1_05e9_11ec_b9fa_502f9bcb9561row3_col2{\n            background-color:  #ead4c8;\n            color:  #000000;\n        }#T_1246ebd1_05e9_11ec_b9fa_502f9bcb9561row0_col6{\n            background-color:  #455cce;\n            color:  #f1f1f1;\n        }#T_1246ebd1_05e9_11ec_b9fa_502f9bcb9561row0_col7,#T_1246ebd1_05e9_11ec_b9fa_502f9bcb9561row2_col0{\n            background-color:  #3f53c6;\n            color:  #f1f1f1;\n        }#T_1246ebd1_05e9_11ec_b9fa_502f9bcb9561row0_col8,#T_1246ebd1_05e9_11ec_b9fa_502f9bcb9561row2_col5,#T_1246ebd1_05e9_11ec_b9fa_502f9bcb9561row3_col7,#T_1246ebd1_05e9_11ec_b9fa_502f9bcb9561row5_col2,#T_1246ebd1_05e9_11ec_b9fa_502f9bcb9561row5_col3,#T_1246ebd1_05e9_11ec_b9fa_502f9bcb9561row6_col9,#T_1246ebd1_05e9_11ec_b9fa_502f9bcb9561row7_col1,#T_1246ebd1_05e9_11ec_b9fa_502f9bcb9561row8_col0,#T_1246ebd1_05e9_11ec_b9fa_502f9bcb9561row9_col4,#T_1246ebd1_05e9_11ec_b9fa_502f9bcb9561row9_col6{\n            background-color:  #3b4cc0;\n            color:  #f1f1f1;\n        }#T_1246ebd1_05e9_11ec_b9fa_502f9bcb9561row0_col9{\n            background-color:  #516ddb;\n            color:  #000000;\n        }#T_1246ebd1_05e9_11ec_b9fa_502f9bcb9561row1_col0{\n            background-color:  #85a8fc;\n            color:  #000000;\n        }#T_1246ebd1_05e9_11ec_b9fa_502f9bcb9561row1_col2{\n            background-color:  #adc9fd;\n            color:  #000000;\n        }#T_1246ebd1_05e9_11ec_b9fa_502f9bcb9561row1_col3{\n            background-color:  #d75445;\n            color:  #000000;\n        }#T_1246ebd1_05e9_11ec_b9fa_502f9bcb9561row1_col4{\n            background-color:  #cd423b;\n            color:  #f1f1f1;\n        }#T_1246ebd1_05e9_11ec_b9fa_502f9bcb9561row1_col5{\n            background-color:  #b6cefa;\n            color:  #000000;\n        }#T_1246ebd1_05e9_11ec_b9fa_502f9bcb9561row1_col6,#T_1246ebd1_05e9_11ec_b9fa_502f9bcb9561row4_col6{\n            background-color:  #a7c5fe;\n            color:  #000000;\n        }#T_1246ebd1_05e9_11ec_b9fa_502f9bcb9561row1_col7,#T_1246ebd1_05e9_11ec_b9fa_502f9bcb9561row6_col0{\n            background-color:  #4257c9;\n            color:  #f1f1f1;\n        }#T_1246ebd1_05e9_11ec_b9fa_502f9bcb9561row1_col8,#T_1246ebd1_05e9_11ec_b9fa_502f9bcb9561row3_col0{\n            background-color:  #6f92f3;\n            color:  #000000;\n        }#T_1246ebd1_05e9_11ec_b9fa_502f9bcb9561row1_col9{\n            background-color:  #7699f6;\n            color:  #000000;\n        }#T_1246ebd1_05e9_11ec_b9fa_502f9bcb9561row2_col1{\n            background-color:  #5e7de7;\n            color:  #000000;\n        }#T_1246ebd1_05e9_11ec_b9fa_502f9bcb9561row2_col3{\n            background-color:  #d6dce4;\n            color:  #000000;\n        }#T_1246ebd1_05e9_11ec_b9fa_502f9bcb9561row2_col4{\n            background-color:  #536edd;\n            color:  #000000;\n        }#T_1246ebd1_05e9_11ec_b9fa_502f9bcb9561row2_col6,#T_1246ebd1_05e9_11ec_b9fa_502f9bcb9561row2_col9{\n            background-color:  #94b6ff;\n            color:  #000000;\n        }#T_1246ebd1_05e9_11ec_b9fa_502f9bcb9561row2_col7{\n            background-color:  #7b9ff9;\n            color:  #000000;\n        }#T_1246ebd1_05e9_11ec_b9fa_502f9bcb9561row2_col8{\n            background-color:  #e6d7cf;\n            color:  #000000;\n        }#T_1246ebd1_05e9_11ec_b9fa_502f9bcb9561row3_col1{\n            background-color:  #da5a49;\n            color:  #000000;\n        }#T_1246ebd1_05e9_11ec_b9fa_502f9bcb9561row3_col4,#T_1246ebd1_05e9_11ec_b9fa_502f9bcb9561row8_col9{\n            background-color:  #f18f71;\n            color:  #000000;\n        }#T_1246ebd1_05e9_11ec_b9fa_502f9bcb9561row3_col5{\n            background-color:  #6c8ff1;\n            color:  #000000;\n        }#T_1246ebd1_05e9_11ec_b9fa_502f9bcb9561row3_col6{\n            background-color:  #bcd2f7;\n            color:  #000000;\n        }#T_1246ebd1_05e9_11ec_b9fa_502f9bcb9561row3_col8,#T_1246ebd1_05e9_11ec_b9fa_502f9bcb9561row4_col0{\n            background-color:  #bbd1f8;\n            color:  #000000;\n        }#T_1246ebd1_05e9_11ec_b9fa_502f9bcb9561row3_col9{\n            background-color:  #8fb1fe;\n            color:  #000000;\n        }#T_1246ebd1_05e9_11ec_b9fa_502f9bcb9561row4_col1{\n            background-color:  #cf453c;\n            color:  #f1f1f1;\n        }#T_1246ebd1_05e9_11ec_b9fa_502f9bcb9561row4_col2,#T_1246ebd1_05e9_11ec_b9fa_502f9bcb9561row7_col9{\n            background-color:  #9dbdff;\n            color:  #000000;\n        }#T_1246ebd1_05e9_11ec_b9fa_502f9bcb9561row4_col3{\n            background-color:  #ee8669;\n            color:  #000000;\n        }#T_1246ebd1_05e9_11ec_b9fa_502f9bcb9561row4_col5{\n            background-color:  #d1dae9;\n            color:  #000000;\n        }#T_1246ebd1_05e9_11ec_b9fa_502f9bcb9561row4_col7,#T_1246ebd1_05e9_11ec_b9fa_502f9bcb9561row9_col0{\n            background-color:  #4e68d8;\n            color:  #000000;\n        }#T_1246ebd1_05e9_11ec_b9fa_502f9bcb9561row4_col8{\n            background-color:  #4961d2;\n            color:  #f1f1f1;\n        }#T_1246ebd1_05e9_11ec_b9fa_502f9bcb9561row4_col9{\n            background-color:  #4358cb;\n            color:  #f1f1f1;\n        }#T_1246ebd1_05e9_11ec_b9fa_502f9bcb9561row5_col0,#T_1246ebd1_05e9_11ec_b9fa_502f9bcb9561row8_col3{\n            background-color:  #cad8ef;\n            color:  #000000;\n        }#T_1246ebd1_05e9_11ec_b9fa_502f9bcb9561row5_col1{\n            background-color:  #6a8bef;\n            color:  #000000;\n        }#T_1246ebd1_05e9_11ec_b9fa_502f9bcb9561row5_col4{\n            background-color:  #9abbff;\n            color:  #000000;\n        }#T_1246ebd1_05e9_11ec_b9fa_502f9bcb9561row5_col6{\n            background-color:  #4f69d9;\n            color:  #000000;\n        }#T_1246ebd1_05e9_11ec_b9fa_502f9bcb9561row5_col7{\n            background-color:  #96b7ff;\n            color:  #000000;\n        }#T_1246ebd1_05e9_11ec_b9fa_502f9bcb9561row5_col8{\n            background-color:  #4b64d5;\n            color:  #f1f1f1;\n        }#T_1246ebd1_05e9_11ec_b9fa_502f9bcb9561row5_col9,#T_1246ebd1_05e9_11ec_b9fa_502f9bcb9561row6_col7{\n            background-color:  #7396f5;\n            color:  #000000;\n        }#T_1246ebd1_05e9_11ec_b9fa_502f9bcb9561row6_col1{\n            background-color:  #97b8ff;\n            color:  #000000;\n        }#T_1246ebd1_05e9_11ec_b9fa_502f9bcb9561row6_col2,#T_1246ebd1_05e9_11ec_b9fa_502f9bcb9561row6_col3,#T_1246ebd1_05e9_11ec_b9fa_502f9bcb9561row9_col2{\n            background-color:  #c7d7f0;\n            color:  #000000;\n        }#T_1246ebd1_05e9_11ec_b9fa_502f9bcb9561row6_col4{\n            background-color:  #9fbfff;\n            color:  #000000;\n        }#T_1246ebd1_05e9_11ec_b9fa_502f9bcb9561row6_col5,#T_1246ebd1_05e9_11ec_b9fa_502f9bcb9561row8_col5{\n            background-color:  #92b4fe;\n            color:  #000000;\n        }#T_1246ebd1_05e9_11ec_b9fa_502f9bcb9561row6_col8{\n            background-color:  #5d7ce6;\n            color:  #000000;\n        }#T_1246ebd1_05e9_11ec_b9fa_502f9bcb9561row7_col0{\n            background-color:  #465ecf;\n            color:  #f1f1f1;\n        }#T_1246ebd1_05e9_11ec_b9fa_502f9bcb9561row7_col2{\n            background-color:  #bed2f6;\n            color:  #000000;\n        }#T_1246ebd1_05e9_11ec_b9fa_502f9bcb9561row7_col3{\n            background-color:  #5875e1;\n            color:  #000000;\n        }#T_1246ebd1_05e9_11ec_b9fa_502f9bcb9561row7_col4{\n            background-color:  #506bda;\n            color:  #000000;\n        }#T_1246ebd1_05e9_11ec_b9fa_502f9bcb9561row7_col5{\n            background-color:  #cedaeb;\n            color:  #000000;\n        }#T_1246ebd1_05e9_11ec_b9fa_502f9bcb9561row7_col6{\n            background-color:  #7ea1fa;\n            color:  #000000;\n        }#T_1246ebd1_05e9_11ec_b9fa_502f9bcb9561row7_col8{\n            background-color:  #abc8fd;\n            color:  #000000;\n        }#T_1246ebd1_05e9_11ec_b9fa_502f9bcb9561row8_col1,#T_1246ebd1_05e9_11ec_b9fa_502f9bcb9561row8_col6{\n            background-color:  #6180e9;\n            color:  #000000;\n        }#T_1246ebd1_05e9_11ec_b9fa_502f9bcb9561row8_col2{\n            background-color:  #f5c0a7;\n            color:  #000000;\n        }#T_1246ebd1_05e9_11ec_b9fa_502f9bcb9561row8_col4{\n            background-color:  #445acc;\n            color:  #f1f1f1;\n        }#T_1246ebd1_05e9_11ec_b9fa_502f9bcb9561row8_col7{\n            background-color:  #a6c4fe;\n            color:  #000000;\n        }#T_1246ebd1_05e9_11ec_b9fa_502f9bcb9561row9_col1{\n            background-color:  #6384eb;\n            color:  #000000;\n        }#T_1246ebd1_05e9_11ec_b9fa_502f9bcb9561row9_col3{\n            background-color:  #9ebeff;\n            color:  #000000;\n        }#T_1246ebd1_05e9_11ec_b9fa_502f9bcb9561row9_col5{\n            background-color:  #afcafc;\n            color:  #000000;\n        }#T_1246ebd1_05e9_11ec_b9fa_502f9bcb9561row9_col7{\n            background-color:  #93b5fe;\n            color:  #000000;\n        }#T_1246ebd1_05e9_11ec_b9fa_502f9bcb9561row9_col8{\n            background-color:  #f29072;\n            color:  #000000;\n        }</style><table id=\"T_1246ebd1_05e9_11ec_b9fa_502f9bcb9561\" ><thead>    <tr>        <th class=\"blank level0\" ></th>        <th class=\"col_heading level0 col0\" >totalsales</th>        <th class=\"col_heading level0 col1\" >gdp</th>        <th class=\"col_heading level0 col2\" >cpi</th>        <th class=\"col_heading level0 col3\" >population</th>        <th class=\"col_heading level0 col4\" >merchsales</th>        <th class=\"col_heading level0 col5\" >internet</th>        <th class=\"col_heading level0 col6\" >distance</th>        <th class=\"col_heading level0 col7\" >expend_health</th>        <th class=\"col_heading level0 col8\" >ppp_cap</th>        <th class=\"col_heading level0 col9\" >life_expect</th>    </tr></thead><tbody>\n                <tr>\n                        <th id=\"T_1246ebd1_05e9_11ec_b9fa_502f9bcb9561level0_row0\" class=\"row_heading level0 row0\" >totalsales</th>\n                        <td id=\"T_1246ebd1_05e9_11ec_b9fa_502f9bcb9561row0_col0\" class=\"data row0 col0\" >1.000000</td>\n                        <td id=\"T_1246ebd1_05e9_11ec_b9fa_502f9bcb9561row0_col1\" class=\"data row0 col1\" >0.020000</td>\n                        <td id=\"T_1246ebd1_05e9_11ec_b9fa_502f9bcb9561row0_col2\" class=\"data row0 col2\" >-0.250000</td>\n                        <td id=\"T_1246ebd1_05e9_11ec_b9fa_502f9bcb9561row0_col3\" class=\"data row0 col3\" >-0.060000</td>\n                        <td id=\"T_1246ebd1_05e9_11ec_b9fa_502f9bcb9561row0_col4\" class=\"data row0 col4\" >0.220000</td>\n                        <td id=\"T_1246ebd1_05e9_11ec_b9fa_502f9bcb9561row0_col5\" class=\"data row0 col5\" >0.280000</td>\n                        <td id=\"T_1246ebd1_05e9_11ec_b9fa_502f9bcb9561row0_col6\" class=\"data row0 col6\" >-0.240000</td>\n                        <td id=\"T_1246ebd1_05e9_11ec_b9fa_502f9bcb9561row0_col7\" class=\"data row0 col7\" >-0.220000</td>\n                        <td id=\"T_1246ebd1_05e9_11ec_b9fa_502f9bcb9561row0_col8\" class=\"data row0 col8\" >-0.270000</td>\n                        <td id=\"T_1246ebd1_05e9_11ec_b9fa_502f9bcb9561row0_col9\" class=\"data row0 col9\" >-0.190000</td>\n            </tr>\n            <tr>\n                        <th id=\"T_1246ebd1_05e9_11ec_b9fa_502f9bcb9561level0_row1\" class=\"row_heading level0 row1\" >gdp</th>\n                        <td id=\"T_1246ebd1_05e9_11ec_b9fa_502f9bcb9561row1_col0\" class=\"data row1 col0\" >0.020000</td>\n                        <td id=\"T_1246ebd1_05e9_11ec_b9fa_502f9bcb9561row1_col1\" class=\"data row1 col1\" >1.000000</td>\n                        <td id=\"T_1246ebd1_05e9_11ec_b9fa_502f9bcb9561row1_col2\" class=\"data row1 col2\" >-0.070000</td>\n                        <td id=\"T_1246ebd1_05e9_11ec_b9fa_502f9bcb9561row1_col3\" class=\"data row1 col3\" >0.860000</td>\n                        <td id=\"T_1246ebd1_05e9_11ec_b9fa_502f9bcb9561row1_col4\" class=\"data row1 col4\" >0.910000</td>\n                        <td id=\"T_1246ebd1_05e9_11ec_b9fa_502f9bcb9561row1_col5\" class=\"data row1 col5\" >-0.030000</td>\n                        <td id=\"T_1246ebd1_05e9_11ec_b9fa_502f9bcb9561row1_col6\" class=\"data row1 col6\" >0.130000</td>\n                        <td id=\"T_1246ebd1_05e9_11ec_b9fa_502f9bcb9561row1_col7\" class=\"data row1 col7\" >-0.210000</td>\n                        <td id=\"T_1246ebd1_05e9_11ec_b9fa_502f9bcb9561row1_col8\" class=\"data row1 col8\" >-0.060000</td>\n                        <td id=\"T_1246ebd1_05e9_11ec_b9fa_502f9bcb9561row1_col9\" class=\"data row1 col9\" >-0.050000</td>\n            </tr>\n            <tr>\n                        <th id=\"T_1246ebd1_05e9_11ec_b9fa_502f9bcb9561level0_row2\" class=\"row_heading level0 row2\" >cpi</th>\n                        <td id=\"T_1246ebd1_05e9_11ec_b9fa_502f9bcb9561row2_col0\" class=\"data row2 col0\" >-0.250000</td>\n                        <td id=\"T_1246ebd1_05e9_11ec_b9fa_502f9bcb9561row2_col1\" class=\"data row2 col1\" >-0.070000</td>\n                        <td id=\"T_1246ebd1_05e9_11ec_b9fa_502f9bcb9561row2_col2\" class=\"data row2 col2\" >1.000000</td>\n                        <td id=\"T_1246ebd1_05e9_11ec_b9fa_502f9bcb9561row2_col3\" class=\"data row2 col3\" >0.280000</td>\n                        <td id=\"T_1246ebd1_05e9_11ec_b9fa_502f9bcb9561row2_col4\" class=\"data row2 col4\" >-0.150000</td>\n                        <td id=\"T_1246ebd1_05e9_11ec_b9fa_502f9bcb9561row2_col5\" class=\"data row2 col5\" >-0.630000</td>\n                        <td id=\"T_1246ebd1_05e9_11ec_b9fa_502f9bcb9561row2_col6\" class=\"data row2 col6\" >0.060000</td>\n                        <td id=\"T_1246ebd1_05e9_11ec_b9fa_502f9bcb9561row2_col7\" class=\"data row2 col7\" >0.010000</td>\n                        <td id=\"T_1246ebd1_05e9_11ec_b9fa_502f9bcb9561row2_col8\" class=\"data row2 col8\" >0.410000</td>\n                        <td id=\"T_1246ebd1_05e9_11ec_b9fa_502f9bcb9561row2_col9\" class=\"data row2 col9\" >0.060000</td>\n            </tr>\n            <tr>\n                        <th id=\"T_1246ebd1_05e9_11ec_b9fa_502f9bcb9561level0_row3\" class=\"row_heading level0 row3\" >population</th>\n                        <td id=\"T_1246ebd1_05e9_11ec_b9fa_502f9bcb9561row3_col0\" class=\"data row3 col0\" >-0.060000</td>\n                        <td id=\"T_1246ebd1_05e9_11ec_b9fa_502f9bcb9561row3_col1\" class=\"data row3 col1\" >0.860000</td>\n                        <td id=\"T_1246ebd1_05e9_11ec_b9fa_502f9bcb9561row3_col2\" class=\"data row3 col2\" >0.280000</td>\n                        <td id=\"T_1246ebd1_05e9_11ec_b9fa_502f9bcb9561row3_col3\" class=\"data row3 col3\" >1.000000</td>\n                        <td id=\"T_1246ebd1_05e9_11ec_b9fa_502f9bcb9561row3_col4\" class=\"data row3 col4\" >0.720000</td>\n                        <td id=\"T_1246ebd1_05e9_11ec_b9fa_502f9bcb9561row3_col5\" class=\"data row3 col5\" >-0.370000</td>\n                        <td id=\"T_1246ebd1_05e9_11ec_b9fa_502f9bcb9561row3_col6\" class=\"data row3 col6\" >0.210000</td>\n                        <td id=\"T_1246ebd1_05e9_11ec_b9fa_502f9bcb9561row3_col7\" class=\"data row3 col7\" >-0.240000</td>\n                        <td id=\"T_1246ebd1_05e9_11ec_b9fa_502f9bcb9561row3_col8\" class=\"data row3 col8\" >0.220000</td>\n                        <td id=\"T_1246ebd1_05e9_11ec_b9fa_502f9bcb9561row3_col9\" class=\"data row3 col9\" >0.040000</td>\n            </tr>\n            <tr>\n                        <th id=\"T_1246ebd1_05e9_11ec_b9fa_502f9bcb9561level0_row4\" class=\"row_heading level0 row4\" >merchsales</th>\n                        <td id=\"T_1246ebd1_05e9_11ec_b9fa_502f9bcb9561row4_col0\" class=\"data row4 col0\" >0.220000</td>\n                        <td id=\"T_1246ebd1_05e9_11ec_b9fa_502f9bcb9561row4_col1\" class=\"data row4 col1\" >0.910000</td>\n                        <td id=\"T_1246ebd1_05e9_11ec_b9fa_502f9bcb9561row4_col2\" class=\"data row4 col2\" >-0.150000</td>\n                        <td id=\"T_1246ebd1_05e9_11ec_b9fa_502f9bcb9561row4_col3\" class=\"data row4 col3\" >0.720000</td>\n                        <td id=\"T_1246ebd1_05e9_11ec_b9fa_502f9bcb9561row4_col4\" class=\"data row4 col4\" >1.000000</td>\n                        <td id=\"T_1246ebd1_05e9_11ec_b9fa_502f9bcb9561row4_col5\" class=\"data row4 col5\" >0.110000</td>\n                        <td id=\"T_1246ebd1_05e9_11ec_b9fa_502f9bcb9561row4_col6\" class=\"data row4 col6\" >0.130000</td>\n                        <td id=\"T_1246ebd1_05e9_11ec_b9fa_502f9bcb9561row4_col7\" class=\"data row4 col7\" >-0.160000</td>\n                        <td id=\"T_1246ebd1_05e9_11ec_b9fa_502f9bcb9561row4_col8\" class=\"data row4 col8\" >-0.210000</td>\n                        <td id=\"T_1246ebd1_05e9_11ec_b9fa_502f9bcb9561row4_col9\" class=\"data row4 col9\" >-0.250000</td>\n            </tr>\n            <tr>\n                        <th id=\"T_1246ebd1_05e9_11ec_b9fa_502f9bcb9561level0_row5\" class=\"row_heading level0 row5\" >internet</th>\n                        <td id=\"T_1246ebd1_05e9_11ec_b9fa_502f9bcb9561row5_col0\" class=\"data row5 col0\" >0.280000</td>\n                        <td id=\"T_1246ebd1_05e9_11ec_b9fa_502f9bcb9561row5_col1\" class=\"data row5 col1\" >-0.030000</td>\n                        <td id=\"T_1246ebd1_05e9_11ec_b9fa_502f9bcb9561row5_col2\" class=\"data row5 col2\" >-0.630000</td>\n                        <td id=\"T_1246ebd1_05e9_11ec_b9fa_502f9bcb9561row5_col3\" class=\"data row5 col3\" >-0.370000</td>\n                        <td id=\"T_1246ebd1_05e9_11ec_b9fa_502f9bcb9561row5_col4\" class=\"data row5 col4\" >0.110000</td>\n                        <td id=\"T_1246ebd1_05e9_11ec_b9fa_502f9bcb9561row5_col5\" class=\"data row5 col5\" >1.000000</td>\n                        <td id=\"T_1246ebd1_05e9_11ec_b9fa_502f9bcb9561row5_col6\" class=\"data row5 col6\" >-0.200000</td>\n                        <td id=\"T_1246ebd1_05e9_11ec_b9fa_502f9bcb9561row5_col7\" class=\"data row5 col7\" >0.100000</td>\n                        <td id=\"T_1246ebd1_05e9_11ec_b9fa_502f9bcb9561row5_col8\" class=\"data row5 col8\" >-0.200000</td>\n                        <td id=\"T_1246ebd1_05e9_11ec_b9fa_502f9bcb9561row5_col9\" class=\"data row5 col9\" >-0.060000</td>\n            </tr>\n            <tr>\n                        <th id=\"T_1246ebd1_05e9_11ec_b9fa_502f9bcb9561level0_row6\" class=\"row_heading level0 row6\" >distance</th>\n                        <td id=\"T_1246ebd1_05e9_11ec_b9fa_502f9bcb9561row6_col0\" class=\"data row6 col0\" >-0.240000</td>\n                        <td id=\"T_1246ebd1_05e9_11ec_b9fa_502f9bcb9561row6_col1\" class=\"data row6 col1\" >0.130000</td>\n                        <td id=\"T_1246ebd1_05e9_11ec_b9fa_502f9bcb9561row6_col2\" class=\"data row6 col2\" >0.060000</td>\n                        <td id=\"T_1246ebd1_05e9_11ec_b9fa_502f9bcb9561row6_col3\" class=\"data row6 col3\" >0.210000</td>\n                        <td id=\"T_1246ebd1_05e9_11ec_b9fa_502f9bcb9561row6_col4\" class=\"data row6 col4\" >0.130000</td>\n                        <td id=\"T_1246ebd1_05e9_11ec_b9fa_502f9bcb9561row6_col5\" class=\"data row6 col5\" >-0.200000</td>\n                        <td id=\"T_1246ebd1_05e9_11ec_b9fa_502f9bcb9561row6_col6\" class=\"data row6 col6\" >1.000000</td>\n                        <td id=\"T_1246ebd1_05e9_11ec_b9fa_502f9bcb9561row6_col7\" class=\"data row6 col7\" >-0.020000</td>\n                        <td id=\"T_1246ebd1_05e9_11ec_b9fa_502f9bcb9561row6_col8\" class=\"data row6 col8\" >-0.130000</td>\n                        <td id=\"T_1246ebd1_05e9_11ec_b9fa_502f9bcb9561row6_col9\" class=\"data row6 col9\" >-0.290000</td>\n            </tr>\n            <tr>\n                        <th id=\"T_1246ebd1_05e9_11ec_b9fa_502f9bcb9561level0_row7\" class=\"row_heading level0 row7\" >expend_health</th>\n                        <td id=\"T_1246ebd1_05e9_11ec_b9fa_502f9bcb9561row7_col0\" class=\"data row7 col0\" >-0.220000</td>\n                        <td id=\"T_1246ebd1_05e9_11ec_b9fa_502f9bcb9561row7_col1\" class=\"data row7 col1\" >-0.210000</td>\n                        <td id=\"T_1246ebd1_05e9_11ec_b9fa_502f9bcb9561row7_col2\" class=\"data row7 col2\" >0.010000</td>\n                        <td id=\"T_1246ebd1_05e9_11ec_b9fa_502f9bcb9561row7_col3\" class=\"data row7 col3\" >-0.240000</td>\n                        <td id=\"T_1246ebd1_05e9_11ec_b9fa_502f9bcb9561row7_col4\" class=\"data row7 col4\" >-0.160000</td>\n                        <td id=\"T_1246ebd1_05e9_11ec_b9fa_502f9bcb9561row7_col5\" class=\"data row7 col5\" >0.100000</td>\n                        <td id=\"T_1246ebd1_05e9_11ec_b9fa_502f9bcb9561row7_col6\" class=\"data row7 col6\" >-0.020000</td>\n                        <td id=\"T_1246ebd1_05e9_11ec_b9fa_502f9bcb9561row7_col7\" class=\"data row7 col7\" >1.000000</td>\n                        <td id=\"T_1246ebd1_05e9_11ec_b9fa_502f9bcb9561row7_col8\" class=\"data row7 col8\" >0.160000</td>\n                        <td id=\"T_1246ebd1_05e9_11ec_b9fa_502f9bcb9561row7_col9\" class=\"data row7 col9\" >0.090000</td>\n            </tr>\n            <tr>\n                        <th id=\"T_1246ebd1_05e9_11ec_b9fa_502f9bcb9561level0_row8\" class=\"row_heading level0 row8\" >ppp_cap</th>\n                        <td id=\"T_1246ebd1_05e9_11ec_b9fa_502f9bcb9561row8_col0\" class=\"data row8 col0\" >-0.270000</td>\n                        <td id=\"T_1246ebd1_05e9_11ec_b9fa_502f9bcb9561row8_col1\" class=\"data row8 col1\" >-0.060000</td>\n                        <td id=\"T_1246ebd1_05e9_11ec_b9fa_502f9bcb9561row8_col2\" class=\"data row8 col2\" >0.410000</td>\n                        <td id=\"T_1246ebd1_05e9_11ec_b9fa_502f9bcb9561row8_col3\" class=\"data row8 col3\" >0.220000</td>\n                        <td id=\"T_1246ebd1_05e9_11ec_b9fa_502f9bcb9561row8_col4\" class=\"data row8 col4\" >-0.210000</td>\n                        <td id=\"T_1246ebd1_05e9_11ec_b9fa_502f9bcb9561row8_col5\" class=\"data row8 col5\" >-0.200000</td>\n                        <td id=\"T_1246ebd1_05e9_11ec_b9fa_502f9bcb9561row8_col6\" class=\"data row8 col6\" >-0.130000</td>\n                        <td id=\"T_1246ebd1_05e9_11ec_b9fa_502f9bcb9561row8_col7\" class=\"data row8 col7\" >0.160000</td>\n                        <td id=\"T_1246ebd1_05e9_11ec_b9fa_502f9bcb9561row8_col8\" class=\"data row8 col8\" >1.000000</td>\n                        <td id=\"T_1246ebd1_05e9_11ec_b9fa_502f9bcb9561row8_col9\" class=\"data row8 col9\" >0.710000</td>\n            </tr>\n            <tr>\n                        <th id=\"T_1246ebd1_05e9_11ec_b9fa_502f9bcb9561level0_row9\" class=\"row_heading level0 row9\" >life_expect</th>\n                        <td id=\"T_1246ebd1_05e9_11ec_b9fa_502f9bcb9561row9_col0\" class=\"data row9 col0\" >-0.190000</td>\n                        <td id=\"T_1246ebd1_05e9_11ec_b9fa_502f9bcb9561row9_col1\" class=\"data row9 col1\" >-0.050000</td>\n                        <td id=\"T_1246ebd1_05e9_11ec_b9fa_502f9bcb9561row9_col2\" class=\"data row9 col2\" >0.060000</td>\n                        <td id=\"T_1246ebd1_05e9_11ec_b9fa_502f9bcb9561row9_col3\" class=\"data row9 col3\" >0.040000</td>\n                        <td id=\"T_1246ebd1_05e9_11ec_b9fa_502f9bcb9561row9_col4\" class=\"data row9 col4\" >-0.250000</td>\n                        <td id=\"T_1246ebd1_05e9_11ec_b9fa_502f9bcb9561row9_col5\" class=\"data row9 col5\" >-0.060000</td>\n                        <td id=\"T_1246ebd1_05e9_11ec_b9fa_502f9bcb9561row9_col6\" class=\"data row9 col6\" >-0.290000</td>\n                        <td id=\"T_1246ebd1_05e9_11ec_b9fa_502f9bcb9561row9_col7\" class=\"data row9 col7\" >0.090000</td>\n                        <td id=\"T_1246ebd1_05e9_11ec_b9fa_502f9bcb9561row9_col8\" class=\"data row9 col8\" >0.710000</td>\n                        <td id=\"T_1246ebd1_05e9_11ec_b9fa_502f9bcb9561row9_col9\" class=\"data row9 col9\" >1.000000</td>\n            </tr>\n    </tbody></table>",
      "text/plain": "<pandas.io.formats.style.Styler at 0x2d79e83b4f0>"
     },
     "execution_count": 69,
     "metadata": {},
     "output_type": "execute_result"
    }
   ],
   "execution_count": null
  },
  {
   "cell_type": "code",
   "metadata": {
    "cell_id": "00021-2759bff5-d8bc-4348-8f82-28162e091f81",
    "deepnote_cell_type": "code"
   },
   "source": "import seaborn as sns\nimport altair as alt\n## scatter plot or SPLOMS\n\nchart = alt.Chart(da).mark_point(fill='red',fillOpacity=0.6,size=70).encode(\n    x=alt.X('totalsales:Q',axis=alt.Axis(labelFontSize=12,titleFontSize=14,title=\"totalsales\")),\n    y=alt.Y('expend_health:Q',axis=alt.Axis(labelFontSize=12,titleFontSize=14,title='expend_health'))\n)\nchart+chart.transform_regression('totalsales', 'expend_health').mark_line(line=True,fill='black',strokeDash=[1,5],stroke='black',opacity=0.6)",
   "outputs": [
    {
     "data": {
      "text/html": "\n<div id=\"altair-viz-ad7812b4afe1445d8c1e5401a600fa72\"></div>\n<script type=\"text/javascript\">\n  (function(spec, embedOpt){\n    let outputDiv = document.currentScript.previousElementSibling;\n    if (outputDiv.id !== \"altair-viz-ad7812b4afe1445d8c1e5401a600fa72\") {\n      outputDiv = document.getElementById(\"altair-viz-ad7812b4afe1445d8c1e5401a600fa72\");\n    }\n    const paths = {\n      \"vega\": \"https://cdn.jsdelivr.net/npm//vega@5?noext\",\n      \"vega-lib\": \"https://cdn.jsdelivr.net/npm//vega-lib?noext\",\n      \"vega-lite\": \"https://cdn.jsdelivr.net/npm//vega-lite@4.8.1?noext\",\n      \"vega-embed\": \"https://cdn.jsdelivr.net/npm//vega-embed@6?noext\",\n    };\n\n    function loadScript(lib) {\n      return new Promise(function(resolve, reject) {\n        var s = document.createElement('script');\n        s.src = paths[lib];\n        s.async = true;\n        s.onload = () => resolve(paths[lib]);\n        s.onerror = () => reject(`Error loading script: ${paths[lib]}`);\n        document.getElementsByTagName(\"head\")[0].appendChild(s);\n      });\n    }\n\n    function showError(err) {\n      outputDiv.innerHTML = `<div class=\"error\" style=\"color:red;\">${err}</div>`;\n      throw err;\n    }\n\n    function displayChart(vegaEmbed) {\n      vegaEmbed(outputDiv, spec, embedOpt)\n        .catch(err => showError(`Javascript Error: ${err.message}<br>This usually means there's a typo in your chart specification. See the javascript console for the full traceback.`));\n    }\n\n    if(typeof define === \"function\" && define.amd) {\n      requirejs.config({paths});\n      require([\"vega-embed\"], displayChart, err => showError(`Error loading script: ${err.message}`));\n    } else if (typeof vegaEmbed === \"function\") {\n      displayChart(vegaEmbed);\n    } else {\n      loadScript(\"vega\")\n        .then(() => loadScript(\"vega-lite\"))\n        .then(() => loadScript(\"vega-embed\"))\n        .catch(showError)\n        .then(() => displayChart(vegaEmbed));\n    }\n  })({\"config\": {\"view\": {\"continuousWidth\": 400, \"continuousHeight\": 300}}, \"layer\": [{\"mark\": {\"type\": \"point\", \"fill\": \"red\", \"fillOpacity\": 0.6, \"size\": 70}, \"encoding\": {\"x\": {\"type\": \"quantitative\", \"axis\": {\"labelFontSize\": 12, \"title\": \"totalsales\", \"titleFontSize\": 14}, \"field\": \"totalsales\"}, \"y\": {\"type\": \"quantitative\", \"axis\": {\"labelFontSize\": 12, \"title\": \"expend_health\", \"titleFontSize\": 14}, \"field\": \"expend_health\"}}}, {\"mark\": {\"type\": \"line\", \"fill\": \"black\", \"line\": true, \"opacity\": 0.6, \"stroke\": \"black\", \"strokeDash\": [1, 5]}, \"encoding\": {\"x\": {\"type\": \"quantitative\", \"axis\": {\"labelFontSize\": 12, \"title\": \"totalsales\", \"titleFontSize\": 14}, \"field\": \"totalsales\"}, \"y\": {\"type\": \"quantitative\", \"axis\": {\"labelFontSize\": 12, \"title\": \"expend_health\", \"titleFontSize\": 14}, \"field\": \"expend_health\"}}, \"transform\": [{\"on\": \"totalsales\", \"regression\": \"expend_health\"}]}], \"data\": {\"url\": \"altair-data-3a72e1b4eb75f22a29c11fa50ada721d.json\", \"format\": {\"type\": \"json\"}}, \"$schema\": \"https://vega.github.io/schema/vega-lite/v4.8.1.json\"}, {\"mode\": \"vega-lite\"});\n</script>",
      "text/plain": "alt.LayerChart(...)"
     },
     "execution_count": 72,
     "metadata": {},
     "output_type": "execute_result"
    }
   ],
   "execution_count": null
  },
  {
   "cell_type": "code",
   "metadata": {
    "cell_id": "00022-56d559c3-f7c5-42d5-b4e4-87b5c625e07a",
    "deepnote_cell_type": "code"
   },
   "source": "# Running the algorithm\ndico={}\nr=0\ngagnant=[]\n\nfor i in range(1,len(liste_factores)):\n    # Creating an itertool object with all combinations of factors\n    liste=(itertools.combinations(liste_factores,i))\n    \n    for i in liste:\n        # Creating a string with + to integrate factors into model\n        element1=' + '.join(list(i))\n        \n        # Creating string with final parameters for linear regression\n        a=\"totalsales ~ {}\".format(element1)\n        \n        # Running the linear regression\n        model = sm.OLS.from_formula(a, data=da)\n        result = model.fit()\n        \n        # Creating a dictionary with all the combinations' adj r squared results\n        dico[element1]=result.rsquared_adj.round(3)\n        r1=dico[element1]\n        \n        # saves best adjusted r-squared and liste of columns \n        if r1>r:\n            r=r1\n            gagnant=element1\n        \n# Extracting second best model\nsecond=sorted(dico.items(), key=lambda x: x[1],reverse=True)[:5][1][0]\n\n# Running the model\na=\"totalsales ~ {}\".format(gagnant)\nmodel = sm.OLS.from_formula(a, data=da)\nresult = model.fit()\n\n# Returns best model according to Adjusted R-squared\nresult.summary()",
   "outputs": [
    {
     "data": {
      "text/html": "<table class=\"simpletable\">\n<caption>OLS Regression Results</caption>\n<tr>\n  <th>Dep. Variable:</th>       <td>totalsales</td>    <th>  R-squared:         </th> <td>   0.389</td>\n</tr>\n<tr>\n  <th>Model:</th>                   <td>OLS</td>       <th>  Adj. R-squared:    </th> <td>   0.295</td>\n</tr>\n<tr>\n  <th>Method:</th>             <td>Least Squares</td>  <th>  F-statistic:       </th> <td>   4.146</td>\n</tr>\n<tr>\n  <th>Date:</th>             <td>Wed, 25 Aug 2021</td> <th>  Prob (F-statistic):</th>  <td>0.00994</td>\n</tr>\n<tr>\n  <th>Time:</th>                 <td>15:09:47</td>     <th>  Log-Likelihood:    </th> <td> -386.11</td>\n</tr>\n<tr>\n  <th>No. Observations:</th>      <td>    31</td>      <th>  AIC:               </th> <td>   782.2</td>\n</tr>\n<tr>\n  <th>Df Residuals:</th>          <td>    26</td>      <th>  BIC:               </th> <td>   789.4</td>\n</tr>\n<tr>\n  <th>Df Model:</th>              <td>     4</td>      <th>                     </th>     <td> </td>   \n</tr>\n<tr>\n  <th>Covariance Type:</th>      <td>nonrobust</td>    <th>                     </th>     <td> </td>   \n</tr>\n</table>\n<table class=\"simpletable\">\n<tr>\n        <td></td>           <th>coef</th>     <th>std err</th>      <th>t</th>      <th>P>|t|</th>  <th>[0.025</th>    <th>0.975]</th>  \n</tr>\n<tr>\n  <th>Intercept</th>     <td> 9.528e+04</td> <td> 3.81e+04</td> <td>    2.502</td> <td> 0.019</td> <td>  1.7e+04</td> <td> 1.74e+05</td>\n</tr>\n<tr>\n  <th>gdp</th>           <td>-2.996e-08</td> <td> 9.83e-09</td> <td>   -3.048</td> <td> 0.005</td> <td>-5.02e-08</td> <td>-9.76e-09</td>\n</tr>\n<tr>\n  <th>merchsales</th>    <td> 2.194e-07</td> <td> 6.59e-08</td> <td>    3.327</td> <td> 0.003</td> <td> 8.39e-08</td> <td> 3.55e-07</td>\n</tr>\n<tr>\n  <th>distance</th>      <td>   -3.6512</td> <td>    1.903</td> <td>   -1.919</td> <td> 0.066</td> <td>   -7.562</td> <td>    0.259</td>\n</tr>\n<tr>\n  <th>expend_health</th> <td>-7609.1502</td> <td> 4382.788</td> <td>   -1.736</td> <td> 0.094</td> <td>-1.66e+04</td> <td> 1399.800</td>\n</tr>\n</table>\n<table class=\"simpletable\">\n<tr>\n  <th>Omnibus:</th>       <td>15.540</td> <th>  Durbin-Watson:     </th> <td>   1.872</td>\n</tr>\n<tr>\n  <th>Prob(Omnibus):</th> <td> 0.000</td> <th>  Jarque-Bera (JB):  </th> <td>  16.704</td>\n</tr>\n<tr>\n  <th>Skew:</th>          <td> 1.481</td> <th>  Prob(JB):          </th> <td>0.000236</td>\n</tr>\n<tr>\n  <th>Kurtosis:</th>      <td> 5.039</td> <th>  Cond. No.          </th> <td>1.09e+13</td>\n</tr>\n</table><br/><br/>Notes:<br/>[1] Standard Errors assume that the covariance matrix of the errors is correctly specified.<br/>[2] The condition number is large, 1.09e+13. This might indicate that there are<br/>strong multicollinearity or other numerical problems.",
      "text/plain": "<class 'statsmodels.iolib.summary.Summary'>\n\"\"\"\n                            OLS Regression Results                            \n==============================================================================\nDep. Variable:             totalsales   R-squared:                       0.389\nModel:                            OLS   Adj. R-squared:                  0.295\nMethod:                 Least Squares   F-statistic:                     4.146\nDate:                Wed, 25 Aug 2021   Prob (F-statistic):            0.00994\nTime:                        15:09:47   Log-Likelihood:                -386.11\nNo. Observations:                  31   AIC:                             782.2\nDf Residuals:                      26   BIC:                             789.4\nDf Model:                           4                                         \nCovariance Type:            nonrobust                                         \n=================================================================================\n                    coef    std err          t      P>|t|      [0.025      0.975]\n---------------------------------------------------------------------------------\nIntercept      9.528e+04   3.81e+04      2.502      0.019     1.7e+04    1.74e+05\ngdp           -2.996e-08   9.83e-09     -3.048      0.005   -5.02e-08   -9.76e-09\nmerchsales     2.194e-07   6.59e-08      3.327      0.003    8.39e-08    3.55e-07\ndistance         -3.6512      1.903     -1.919      0.066      -7.562       0.259\nexpend_health -7609.1502   4382.788     -1.736      0.094   -1.66e+04    1399.800\n==============================================================================\nOmnibus:                       15.540   Durbin-Watson:                   1.872\nProb(Omnibus):                  0.000   Jarque-Bera (JB):               16.704\nSkew:                           1.481   Prob(JB):                     0.000236\nKurtosis:                       5.039   Cond. No.                     1.09e+13\n==============================================================================\n\nNotes:\n[1] Standard Errors assume that the covariance matrix of the errors is correctly specified.\n[2] The condition number is large, 1.09e+13. This might indicate that there are\nstrong multicollinearity or other numerical problems.\n\"\"\""
     },
     "execution_count": 68,
     "metadata": {},
     "output_type": "execute_result"
    }
   ],
   "execution_count": null
  },
  {
   "cell_type": "code",
   "metadata": {
    "cell_id": "00023-fea52396-994b-474a-b688-6dd37d08d9bb",
    "deepnote_cell_type": "code"
   },
   "source": "# Returns Top 10 models according to adjusted R-squared\nordered_liste=sorted(dico.items(), key=lambda x: x[1],reverse=True)[:10]\nordered_liste",
   "outputs": [
    {
     "data": {
      "text/plain": "[('gdp + merchsales + distance + expend_health', 0.295),\n ('gdp + merchsales + internet + distance + expend_health', 0.272),\n ('gdp + cpi + merchsales + distance + expend_health', 0.271),\n ('gdp + merchsales + distance + expend_health + ppp_cap', 0.27),\n ('gdp + population + merchsales + distance + expend_health', 0.268),\n ('gdp + cpi + population + merchsales + distance + expend_health', 0.258),\n ('gdp + population + merchsales + internet + distance + expend_health',\n  0.253),\n ('gdp + merchsales + distance', 0.25),\n ('gdp + population + merchsales + distance + expend_health + ppp_cap', 0.246),\n ('gdp + merchsales + internet + distance + expend_health + ppp_cap', 0.244)]"
     },
     "execution_count": 73,
     "metadata": {},
     "output_type": "execute_result"
    }
   ],
   "execution_count": null
  },
  {
   "cell_type": "code",
   "metadata": {
    "cell_id": "00024-41bae6b0-2100-46fb-a130-64bc631c1e12",
    "deepnote_cell_type": "code"
   },
   "source": "# Running the model\na=\"totalsales ~ {}\".format(second)\nmodel = sm.OLS.from_formula(a, data=da)\nresult = model.fit()\n\n# Returns best model according to Adjusted R-squared\nresult.summary()",
   "outputs": [
    {
     "data": {
      "text/html": "<table class=\"simpletable\">\n<caption>OLS Regression Results</caption>\n<tr>\n  <th>Dep. Variable:</th>       <td>totalsales</td>    <th>  R-squared:         </th> <td>   0.393</td>\n</tr>\n<tr>\n  <th>Model:</th>                   <td>OLS</td>       <th>  Adj. R-squared:    </th> <td>   0.272</td>\n</tr>\n<tr>\n  <th>Method:</th>             <td>Least Squares</td>  <th>  F-statistic:       </th> <td>   3.244</td>\n</tr>\n<tr>\n  <th>Date:</th>             <td>Wed, 25 Aug 2021</td> <th>  Prob (F-statistic):</th>  <td>0.0215</td> \n</tr>\n<tr>\n  <th>Time:</th>                 <td>15:37:47</td>     <th>  Log-Likelihood:    </th> <td> -386.00</td>\n</tr>\n<tr>\n  <th>No. Observations:</th>      <td>    31</td>      <th>  AIC:               </th> <td>   784.0</td>\n</tr>\n<tr>\n  <th>Df Residuals:</th>          <td>    25</td>      <th>  BIC:               </th> <td>   792.6</td>\n</tr>\n<tr>\n  <th>Df Model:</th>              <td>     5</td>      <th>                     </th>     <td> </td>   \n</tr>\n<tr>\n  <th>Covariance Type:</th>      <td>nonrobust</td>    <th>                     </th>     <td> </td>   \n</tr>\n</table>\n<table class=\"simpletable\">\n<tr>\n        <td></td>           <th>coef</th>     <th>std err</th>      <th>t</th>      <th>P>|t|</th>  <th>[0.025</th>    <th>0.975]</th>  \n</tr>\n<tr>\n  <th>Intercept</th>     <td> 7.434e+04</td> <td> 6.41e+04</td> <td>    1.159</td> <td> 0.257</td> <td>-5.78e+04</td> <td> 2.06e+05</td>\n</tr>\n<tr>\n  <th>gdp</th>           <td>-2.862e-08</td> <td> 1.05e-08</td> <td>   -2.724</td> <td> 0.012</td> <td>-5.03e-08</td> <td>-6.98e-09</td>\n</tr>\n<tr>\n  <th>merchsales</th>    <td> 2.096e-07</td> <td> 7.11e-08</td> <td>    2.948</td> <td> 0.007</td> <td> 6.32e-08</td> <td> 3.56e-07</td>\n</tr>\n<tr>\n  <th>internet</th>      <td>  301.0100</td> <td>  734.892</td> <td>    0.410</td> <td> 0.686</td> <td>-1212.529</td> <td> 1814.549</td>\n</tr>\n<tr>\n  <th>distance</th>      <td>   -3.4441</td> <td>    1.999</td> <td>   -1.723</td> <td> 0.097</td> <td>   -7.561</td> <td>    0.673</td>\n</tr>\n<tr>\n  <th>expend_health</th> <td>-7726.0791</td> <td> 4463.800</td> <td>   -1.731</td> <td> 0.096</td> <td>-1.69e+04</td> <td> 1467.290</td>\n</tr>\n</table>\n<table class=\"simpletable\">\n<tr>\n  <th>Omnibus:</th>       <td>15.035</td> <th>  Durbin-Watson:     </th> <td>   1.852</td>\n</tr>\n<tr>\n  <th>Prob(Omnibus):</th> <td> 0.001</td> <th>  Jarque-Bera (JB):  </th> <td>  15.816</td>\n</tr>\n<tr>\n  <th>Skew:</th>          <td> 1.455</td> <th>  Prob(JB):          </th> <td>0.000368</td>\n</tr>\n<tr>\n  <th>Kurtosis:</th>      <td> 4.942</td> <th>  Cond. No.          </th> <td>1.81e+13</td>\n</tr>\n</table><br/><br/>Notes:<br/>[1] Standard Errors assume that the covariance matrix of the errors is correctly specified.<br/>[2] The condition number is large, 1.81e+13. This might indicate that there are<br/>strong multicollinearity or other numerical problems.",
      "text/plain": "<class 'statsmodels.iolib.summary.Summary'>\n\"\"\"\n                            OLS Regression Results                            \n==============================================================================\nDep. Variable:             totalsales   R-squared:                       0.393\nModel:                            OLS   Adj. R-squared:                  0.272\nMethod:                 Least Squares   F-statistic:                     3.244\nDate:                Wed, 25 Aug 2021   Prob (F-statistic):             0.0215\nTime:                        15:37:47   Log-Likelihood:                -386.00\nNo. Observations:                  31   AIC:                             784.0\nDf Residuals:                      25   BIC:                             792.6\nDf Model:                           5                                         \nCovariance Type:            nonrobust                                         \n=================================================================================\n                    coef    std err          t      P>|t|      [0.025      0.975]\n---------------------------------------------------------------------------------\nIntercept      7.434e+04   6.41e+04      1.159      0.257   -5.78e+04    2.06e+05\ngdp           -2.862e-08   1.05e-08     -2.724      0.012   -5.03e-08   -6.98e-09\nmerchsales     2.096e-07   7.11e-08      2.948      0.007    6.32e-08    3.56e-07\ninternet        301.0100    734.892      0.410      0.686   -1212.529    1814.549\ndistance         -3.4441      1.999     -1.723      0.097      -7.561       0.673\nexpend_health -7726.0791   4463.800     -1.731      0.096   -1.69e+04    1467.290\n==============================================================================\nOmnibus:                       15.035   Durbin-Watson:                   1.852\nProb(Omnibus):                  0.001   Jarque-Bera (JB):               15.816\nSkew:                           1.455   Prob(JB):                     0.000368\nKurtosis:                       4.942   Cond. No.                     1.81e+13\n==============================================================================\n\nNotes:\n[1] Standard Errors assume that the covariance matrix of the errors is correctly specified.\n[2] The condition number is large, 1.81e+13. This might indicate that there are\nstrong multicollinearity or other numerical problems.\n\"\"\""
     },
     "execution_count": 80,
     "metadata": {},
     "output_type": "execute_result"
    }
   ],
   "execution_count": null
  },
  {
   "cell_type": "code",
   "metadata": {
    "cell_id": "00025-bebfda78-240b-4926-8c48-d218bae56021",
    "deepnote_cell_type": "code"
   },
   "source": "result.params",
   "outputs": [
    {
     "data": {
      "text/plain": "Intercept        9.528416e+04\ngdp             -2.995532e-08\nmerchsales       2.193964e-07\ndistance        -3.651236e+00\nexpend_health   -7.609150e+03\ndtype: float64"
     },
     "execution_count": 74,
     "metadata": {},
     "output_type": "execute_result"
    }
   ],
   "execution_count": null
  },
  {
   "cell_type": "code",
   "metadata": {
    "cell_id": "00026-ea354bb8-a186-4866-bddc-b5c14ff8811c",
    "deepnote_cell_type": "code"
   },
   "source": "table = pd.pivot_table(df2, values='sales', index=['Code'],\n                    columns=['month_year'], aggfunc=np.sum, fill_value=0)",
   "outputs": [],
   "execution_count": null
  },
  {
   "cell_type": "markdown",
   "source": "<a style='text-decoration:none;line-height:16px;display:flex;color:#5B5B62;padding:10px;justify-content:end;' href='https://deepnote.com?utm_source=created-in-deepnote-cell&projectId=023a0e03-cc30-4d6d-b448-6d27799cca93' target=\"_blank\">\n<img alt='Created in deepnote.com' style='display:inline;max-height:16px;margin:0px;margin-right:7.5px;' src='data:image/svg+xml;base64,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' > </img>\nCreated in <span style='font-weight:600;margin-left:4px;'>Deepnote</span></a>",
   "metadata": {
    "tags": [],
    "created_in_deepnote_cell": true,
    "deepnote_cell_type": "markdown"
   }
  }
 ],
 "nbformat": 4,
 "nbformat_minor": 2,
 "metadata": {
  "interpreter": {
   "hash": "08674fbc1dfc0c234daaa71180d034348c96e795ab49507e0710d4d145c79adf"
  },
  "kernelspec": {
   "display_name": "Python 3",
   "language": "python",
   "name": "python3"
  },
  "language_info": {
   "codemirror_mode": {
    "name": "ipython",
    "version": 3
   },
   "file_extension": ".py",
   "mimetype": "text/x-python",
   "name": "python",
   "nbconvert_exporter": "python",
   "pygments_lexer": "ipython3",
   "version": "3.8.5"
  },
  "deepnote_notebook_id": "4b69357d-2c57-4db8-90ed-79af86146bca",
  "deepnote": {},
  "deepnote_execution_queue": []
 }
}