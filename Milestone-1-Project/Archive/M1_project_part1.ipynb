{
 "cells": [
  {
   "cell_type": "code",
   "metadata": {
    "cell_id": "00000-52715ba0-3958-4f7a-9da4-f7f24c453131",
    "deepnote_to_be_reexecuted": false,
    "source_hash": "3d43c077",
    "execution_start": 1629860040383,
    "execution_millis": 115,
    "deepnote_cell_type": "code"
   },
   "source": "import pandas as pd\nimport numpy as np\nimport math\nimport altair as alt\n\n# enable correct rendering\nalt.renderers.enable('default')\n# uses intermediate json files to speed things up\nalt.data_transformers.enable('json')\n\n# New comment",
   "outputs": [
    {
     "output_type": "execute_result",
     "execution_count": 1,
     "data": {
      "text/plain": "DataTransformerRegistry.enable('json')"
     },
     "metadata": {}
    }
   ],
   "execution_count": null
  },
  {
   "cell_type": "code",
   "metadata": {
    "cell_id": "00001-f4a94ccd-23ac-417f-9df9-d13e69e6fe77",
    "deepnote_to_be_reexecuted": false,
    "source_hash": "a0a4fa67",
    "execution_start": 1629860040493,
    "execution_millis": 607,
    "deepnote_cell_type": "code"
   },
   "source": "#Importing Main Dataset\ndf = pd.read_csv('data2.csv', encoding='latin1')",
   "outputs": [],
   "execution_count": null
  },
  {
   "cell_type": "code",
   "metadata": {
    "cell_id": "00002-a7fd43e2-605f-4748-aa02-e67c22937a9a",
    "deepnote_to_be_reexecuted": false,
    "source_hash": "5a9b7d95",
    "execution_start": 1629860041131,
    "execution_millis": 589,
    "deepnote_cell_type": "code"
   },
   "source": "\n#Dataframe Cleanup\n#Stockcode which contains only digits signifies sale entry\n#Hence we will filter out enteries with digit only stockcode\n\nclean_df = df[df.StockCode.str.contains('^\\d', regex=True, na=False)]\n\n# Drop quantities which are negative \nclean_df = clean_df[clean_df[\"Quantity\"] >= 0]\n\n#Adding SalesValue column to the Dataframe\nclean_df[\"SalesValue\"] = clean_df[\"Quantity\"]*clean_df[\"UnitPrice\"]\n\n#UK Dataframe\nuk_df = clean_df[clean_df['Country'] == 'United Kingdom']\n\n#Rest of the World Dataframe\nrow_df = clean_df.drop(clean_df[clean_df['Country'] == 'United Kingdom'].index)",
   "outputs": [],
   "execution_count": null
  },
  {
   "cell_type": "code",
   "metadata": {
    "cell_id": "00003-fcc8c0a7-c1b6-4cf6-b563-010ae2fef039",
    "deepnote_to_be_reexecuted": false,
    "source_hash": "6dcc801e",
    "execution_start": 1629860041724,
    "execution_millis": 41,
    "deepnote_cell_type": "code"
   },
   "source": "#Grouping sales by customers\ncustomer_df = clean_df.groupby(by=['CustomerID']).agg({'Quantity':['min', 'max', 'sum'], 'UnitPrice':['min', 'max', 'sum']})\nprint(\"Number of unique customers = \", customer_df.index.size)\n",
   "outputs": [
    {
     "name": "stdout",
     "text": "Number of unique customers =  4335\n",
     "output_type": "stream"
    }
   ],
   "execution_count": null
  },
  {
   "cell_type": "code",
   "metadata": {
    "cell_id": "00004-9bc93220-fff4-4119-a76b-9848fa87495f",
    "deepnote_to_be_reexecuted": false,
    "source_hash": "b25c0d7",
    "execution_start": 1629860041759,
    "execution_millis": 5972,
    "deepnote_cell_type": "code"
   },
   "source": "# Importing Secondary Datasets - Records for year range 2007 to 2011\n# HDI could be additional variable\n# Smartphone penetration dataset if available\n# Credit card \n\n#Purchasing power parity GDP, PPP (constant 2017 international $) | Data (worldbank.org)\ngdp_df = pd.read_excel('API_NY.GDP.MKTP.PP.KD_DS2_en_excel_v2_2764839.xls', \n                       sheet_name=0, header=3, usecols=\"A,B,D,AZ:BD\")\n\n#Inflation CPI Consumer price index (2010 = 100) | Data (worldbank.org)\ncpi_df = pd.read_excel(\"API_FP.CPI.TOTL_DS2_en_excel_v2_2765329.xls\",\n                       sheet_name=0, header=3, usecols=\"A,B,D,AZ:BD\")\n\n#Debt % versus GDP External debt stocks, long-term (DOD, current US$) | Data (worldbank.org)\n#extdebt_df = pd.read_excel(\"API_DT.DOD.DLXF.CD_DS2_en_excel_v2_2823747.xls\",\n#                           sheet_name=0, header=3, usecols=\"A,B,D,AZ:BD\")\n\n#Individuals using the Internet (% of population) \n\ninternet_df = pd.read_excel(\"API_IT.NET.USER.ZS_DS2_en_excel_v2_2764008.xls\",\n                    sheet_name=0, header=3, usecols=\"A,B,D,AZ:BD\")\n\n#Exchange rate fluctuation (L5Y) Official exchange rate (LCU per US$, period average) | Data (worldbank.org)\nexchrate_df = pd.read_excel(\"API_PA.NUS.FCRF_DS2_en_excel_v2_2764464.xls\",\n                            sheet_name=0, header=3, usecols=\"A,B,D,AZ:BD\")\n\n#Population Population, total | Data (worldbank.org)\npop_df = pd.read_excel(\"API_SP.POP.TOTL_DS2_en_excel_v2_2764317.xls\",\n                       sheet_name=0, header=3, usecols=\"A,B,D,AZ:BD\")\n\n#Merchandise imports Merchandise imports (current US$) | Data (worldbank.org)\nmerch_df = pd.read_excel(\"API_TM.VAL.MRCH.CD.WT_DS2_en_excel_v2_2766285.xls\",\n                         sheet_name=0, header=3, usecols=\"A,B,D,AZ:BD\")\n\n#CERDI Sea Distance Dataset\nseadist_df = pd.read_excel(\"CERDI-seadistance.xlsx\", usecols=\"A,B,C\")\n# Cleaning Sea Distance DF to only include entries with UK as the origin\nseadist_df = seadist_df[seadist_df[\"iso1\"]==\"GBR\"]\n",
   "outputs": [],
   "execution_count": null
  },
  {
   "cell_type": "code",
   "metadata": {
    "cell_id": "00005-e3c65b6e-3353-4ef0-8d30-342edac21fc6",
    "deepnote_to_be_reexecuted": false,
    "source_hash": "e8b77fde",
    "execution_start": 1629860047739,
    "execution_millis": 1,
    "deepnote_cell_type": "code"
   },
   "source": "# Function to normalize country names to code that will be used as a key to combine all datasets\ndef valeurs(k):\n    filtered={'United Kingdom': 'GBR',\n 'France': 'FRA',\n 'USA': 'USA',\n 'Belgium': 'BEL',\n 'Australia': 'AUS',\n 'EIRE': 'IRL',\n 'Germany': 'DEU',\n 'Portugal': 'PRT',\n 'Japan': 'JPN',\n 'Denmark': 'DNK',\n 'Nigeria': 'NGA',\n 'Netherlands': 'NLD',\n 'Poland': 'POL',\n 'Spain': 'ESP',\n 'Channel Islands': 'CHI',\n 'Italy': 'ITA',\n 'Cyprus': 'CYP',\n 'Greece': 'GRC',\n 'Norway': 'NOR',\n 'Austria': 'AUT',\n 'Sweden': 'SWE',\n 'United Arab Emirates': 'ARE',\n 'Finland': 'FIN',\n 'Switzerland': 'CHE',\n 'Malta': 'MLT',\n 'Bahrain': 'BHR',\n 'Bermuda': 'BMU',\n 'Hong Kong': 'HKG',\n 'Singapore': 'SGP',\n 'Thailand': 'THA',\n 'Israel': 'ISR',\n 'Lithuania': 'LTU',\n 'Lebanon': 'LBN',\n 'Korea': 'KOR',\n 'Brazil': 'BRA',\n 'Canada': 'CAN',\n 'Iceland': 'ISL'}\n    try:\n        x=filtered[k]\n    except:\n        x=None\n    return x",
   "outputs": [],
   "execution_count": null
  },
  {
   "cell_type": "code",
   "metadata": {
    "cell_id": "00006-2cbe3542-3ef7-4f10-84a0-34a7aa5c0ab0",
    "deepnote_to_be_reexecuted": false,
    "source_hash": "fc0b023c",
    "execution_start": 1629860047758,
    "execution_millis": 2,
    "deepnote_cell_type": "code"
   },
   "source": "\n# Function to get all the country related information for the analysis task\ndef countrydf(name, frequency=\"M\"):\n    # Country specific local dataframe\n    cdf = clean_df.loc[clean_df[\"Country\"] == name]\n\n    # Datetime conversion\n    cdf[\"date\"] = pd.to_datetime(cdf.InvoiceDate)\n\n    # Now lets find cummulative Sales for plot\n    # First lets group by Date to get transaction total per day\n    plotdf = cdf.set_index(\"date\").resample(frequency)['SalesValue'].sum()\n    # Convert series to dataframe\n    plotdf = plotdf.to_frame()\n\n    # Total sales for the country\n    sales = plotdf[\"SalesValue\"].sum()\n\n    # DF that conforms to 13 row format if frequency is set to monthly\n    if frequency == \"M\":\n        plotdf = (plotdf + dummydf).fillna(0)\n    \n    # Number of unique customers in the country\n    custcnt = len(cdf[\"CustomerID\"].unique())\n\n    # Numpy array of unique stock sold in each country\n    uniquestock = cdf[\"StockCode\"].unique() #add .tolist() if list output is desired\n    \n    #Country code\n    code = valeurs(name)\n    \n    # GDP, CPI,  for year 2011\n    gdp = gdp_df.loc[gdp_df[\"Country Code\"] == code, \"2011\"].item()\n    cpi = cpi_df.loc[cpi_df[\"Country Code\"] == code, \"2011\"].item()\n    \n    #exchrate = exchrate_df.loc[exchrate_df[\"Country Code\"] == code, \"2011\"].item()\n    \n    pop = pop_df.loc[pop_df[\"Country Code\"] == code, \"2011\"].item()\n    merch = merch_df.loc[merch_df[\"Country Code\"] == code, \"2011\"].item()\n    internet = internet_df.loc[internet_df[\"Country Code\"] == code, \"2011\"].item()\n    \n    # Sea Distance\n    dist = seadist_df.loc[seadist_df[\"iso2\"]==code, \"seadistance\"].item()\n    \n    return {'name':name, 'code':code, 'df':plotdf, 'totalsales':sales, 'customercnt':custcnt, \n            'uniqueStockID': uniquestock, 'gdp':gdp, 'cpi':cpi, 'population':pop, \n            'merchsales': merch, 'internet':internet, 'distance':dist }\n\n\n# Creating dummydf to obtain fixed 13 row plotdf\ndummyindex = ['2010-12-31', '2011-01-31', '2011-02-28', '2011-03-31',\n             '2011-04-30', '2011-05-31', '2011-06-30', '2011-07-31',\n             '2011-08-31', '2011-09-30', '2011-10-31', '2011-11-30',\n               '2011-12-31']\ndummyvalues = [0,0,0,0,0,0,0,0,0,0,0,0,0]\ndummydf = pd.DataFrame({'date':dummyindex, 'SalesValue':dummyvalues})\ndummydf = dummydf.set_index('date')\n",
   "outputs": [],
   "execution_count": null
  },
  {
   "cell_type": "code",
   "metadata": {
    "cell_id": "00007-729376df-7b01-40ea-81b6-f43cbed0756d",
    "deepnote_to_be_reexecuted": false,
    "source_hash": "e794aa1a",
    "execution_start": 1629860047795,
    "execution_millis": 1482,
    "deepnote_cell_type": "code"
   },
   "source": "# Creating Final DF that will be used for regression analysis\n# Safe to ignore the SettingWithCopyWarning warning\ncountries = ['France', 'USA', 'Belgium', 'EIRE', 'Germany', 'Portugal', 'Japan', 'Denmark', 'Nigeria', \\\n    'Netherlands', 'Poland', 'Spain', 'Italy', 'Cyprus', 'Greece','Norway', 'Austria', 'Sweden', \\\n        'United Arab Emirates', 'Finland', 'Switzerland', 'Malta', 'Bahrain', 'Bermuda', 'Hong Kong', \\\n            'Singapore', 'Thailand', 'Israel', 'Lithuania', 'Lebanon', 'Korea', 'Brazil', 'Canada', 'Iceland']\n\n# Creating list of dictionaries obtained using countrydf function\nfinallist = [countrydf(country) for country in countries]\n\n# Creating Dataframe from that list\nfinaldf = pd.DataFrame(finallist)\n\nfinaldf.head(3)",
   "outputs": [
    {
     "name": "stderr",
     "text": "/shared-libs/python3.7/py-core/lib/python3.7/site-packages/ipykernel_launcher.py:6: SettingWithCopyWarning: \nA value is trying to be set on a copy of a slice from a DataFrame.\nTry using .loc[row_indexer,col_indexer] = value instead\n\nSee the caveats in the documentation: https://pandas.pydata.org/pandas-docs/stable/user_guide/indexing.html#returning-a-view-versus-a-copy\n  \n",
     "output_type": "stream"
    },
    {
     "output_type": "execute_result",
     "execution_count": 8,
     "data": {
      "application/vnd.deepnote.dataframe.v2+json": {
       "row_count": 3,
       "column_count": 12,
       "columns": [
        {
         "name": "name",
         "dtype": "object",
         "stats": {
          "unique_count": 3,
          "nan_count": 0,
          "categories": [
           {
            "name": "France",
            "count": 1
           },
           {
            "name": "USA",
            "count": 1
           },
           {
            "name": "Belgium",
            "count": 1
           }
          ]
         }
        },
        {
         "name": "code",
         "dtype": "object",
         "stats": {
          "unique_count": 3,
          "nan_count": 0,
          "categories": [
           {
            "name": "FRA",
            "count": 1
           },
           {
            "name": "USA",
            "count": 1
           },
           {
            "name": "BEL",
            "count": 1
           }
          ]
         }
        },
        {
         "name": "df",
         "dtype": "object",
         "stats": {
          "unique_count": 3,
          "nan_count": 0,
          "categories": [
           {
            "name": "                     SalesValue\ndate                           \n2010-12-31 00:00:00         0.0\n2011-01-31 00:00:00         0.0\n2011-02-28 00:00:00         0.0\n2011-03-31 00:00:00         0.0\n2011-04-30 00:00:00         0.0\n2011-05-31 00:00:00         0.0\n2011-06-30 00:00:00         0.0\n2011-07-31 00:00:00         0.0\n2011-08-31 00:00:00         0.0\n2011-09-30 00:00:00         0.0\n2011-10-31 00:00:00         0.0\n2011-11-30 00:00:00         0.0\n2011-12-31 00:00:00         0.0\n2010-12-31                  0.0\n2011-01-31                  0.0\n2011-02-28                  0.0\n2011-03-31                  0.0\n2011-04-30                  0.0\n2011-05-31                  0.0\n2011-06-30                  0.0\n2011-07-31                  0.0\n2011-08-31                  0.0\n2011-09-30                  0.0\n2011-10-31                  0.0\n2011-11-30                  0.0\n2011-12-31                  0.0",
            "count": 2
           },
           {
            "name": "                     SalesValue\ndate                           \n2011-04-30 00:00:00         0.0\n2011-05-31 00:00:00         0.0\n2011-06-30 00:00:00         0.0\n2011-07-31 00:00:00         0.0\n2011-08-31 00:00:00         0.0\n2011-09-30 00:00:00         0.0\n2011-10-31 00:00:00         0.0\n2011-11-30 00:00:00         0.0\n2011-12-31 00:00:00         0.0\n2010-12-31                  0.0\n2011-01-31                  0.0\n2011-02-28                  0.0\n2011-03-31                  0.0\n2011-04-30                  0.0\n2011-05-31                  0.0\n2011-06-30                  0.0\n2011-07-31                  0.0\n2011-08-31                  0.0\n2011-09-30                  0.0\n2011-10-31                  0.0\n2011-11-30                  0.0\n2011-12-31                  0.0",
            "count": 1
           }
          ]
         }
        },
        {
         "name": "totalsales",
         "dtype": "float64",
         "stats": {
          "unique_count": 3,
          "nan_count": 0,
          "min": "3580.39",
          "max": "184582.74000000002",
          "histogram": [
           {
            "bin_start": 3580.39,
            "bin_end": 21680.625,
            "count": 1
           },
           {
            "bin_start": 21680.625,
            "bin_end": 39780.86,
            "count": 1
           },
           {
            "bin_start": 39780.86,
            "bin_end": 57881.095,
            "count": 0
           },
           {
            "bin_start": 57881.095,
            "bin_end": 75981.33,
            "count": 0
           },
           {
            "bin_start": 75981.33,
            "bin_end": 94081.565,
            "count": 0
           },
           {
            "bin_start": 94081.565,
            "bin_end": 112181.8,
            "count": 0
           },
           {
            "bin_start": 112181.8,
            "bin_end": 130282.035,
            "count": 0
           },
           {
            "bin_start": 130282.035,
            "bin_end": 148382.27000000002,
            "count": 0
           },
           {
            "bin_start": 148382.27000000002,
            "bin_end": 166482.505,
            "count": 0
           },
           {
            "bin_start": 166482.505,
            "bin_end": 184582.74000000002,
            "count": 1
           }
          ]
         }
        },
        {
         "name": "customercnt",
         "dtype": "int64",
         "stats": {
          "unique_count": 3,
          "nan_count": 0,
          "min": "4",
          "max": "88",
          "histogram": [
           {
            "bin_start": 4,
            "bin_end": 12.4,
            "count": 1
           },
           {
            "bin_start": 12.4,
            "bin_end": 20.8,
            "count": 0
           },
           {
            "bin_start": 20.8,
            "bin_end": 29.200000000000003,
            "count": 1
           },
           {
            "bin_start": 29.200000000000003,
            "bin_end": 37.6,
            "count": 0
           },
           {
            "bin_start": 37.6,
            "bin_end": 46,
            "count": 0
           },
           {
            "bin_start": 46,
            "bin_end": 54.400000000000006,
            "count": 0
           },
           {
            "bin_start": 54.400000000000006,
            "bin_end": 62.800000000000004,
            "count": 0
           },
           {
            "bin_start": 62.800000000000004,
            "bin_end": 71.2,
            "count": 0
           },
           {
            "bin_start": 71.2,
            "bin_end": 79.60000000000001,
            "count": 0
           },
           {
            "bin_start": 79.60000000000001,
            "bin_end": 88,
            "count": 1
           }
          ]
         }
        },
        {
         "name": "uniqueStockID",
         "dtype": "object",
         "stats": {
          "unique_count": 3,
          "nan_count": 0,
          "categories": [
           {
            "name": "['22728' '22727' '22726' ... '23579' '23562' '21258']",
            "count": 1
           },
           {
            "name": "['22722' '22979' '84987' '22720' '22993' '47580' '22989' '22900' '22128'\n '47590B' '22965' '22088' '22990' '22129' '21067' '22149' '22147' '22301'\n '22970' '22423' '37501' '37500' '22551' '21915' '22619' '22138' '21524'\n '21668' '21671' '21669' '22090' '22668' '47590A' '22974' '22972' '22326'\n '21231' '21232' '22949' '21974' '84509A' '37448' '22649' '22951' '21976'\n '22417' '21212' '22938' '84991' '22199' '22848' '22204' '22360' '47559B'\n '22399' '22922' '23156' '23159' '22027' '22029' '22983' '22712' '16161P'\n '21498' '21499' '22046' '22048' '22050' '22708' '22706' '21122' '21123'\n '21891' '23166' '23165' '23167' '48185' '23372' '23367' '23513' '23518'\n '23514' '22139' '23078' '23077' '21058' '21059' '22492' '22738' '22734'\n '22737' '23434' '22736' '22739' '22959' '22818' '23014' '23229' '23289'\n '23291' '23290' '23292' '21210' '23353' '23349' '23351' '23354' '23311'\n '23309' '23293' '23255' '23256' '23254' '20750' '22449' '21577' '37495'\n '21121' '21124' '23173' '22962' '22963' '23328' '22907' '23295' '23296'\n '23515' '23516' '23512' '23366' '22961' '23294' '23245' '23174' '23175'\n '23344' '85099B' '23209' '79191C' '23392' '84828' '23158' '21507' '21508'\n '21242' '21243' '21245' '21238' '21239' '84997A' '84997C' '84997B'\n '84997D' '23303' '23305' '23304' '20677' '20674' '20675' '20676' '20975'\n '22083' '21240']",
            "count": 1
           },
           {
            "name": "['84375' '21217' '21212' '21977' '22417' '21975' '21976' '22551' '85099B'\n '22355' '84992' '22801' '22845' '22060' '22423' '22619' '21135' '21717'\n '22451' '22770' '22666' '22630' '21880' '21879' '22390' '22504' '22740'\n '22754' '22755' '22667' '84906' '46000U' '22629' '22356' '20719' '20724'\n '21258' '20685' '22396' '85169A' '85169D' '85184C' '20723' '22661'\n '22098' '21749' '22859' '85232A' '84879' '85170D' '21121' '21122' '21124'\n '21125' '21126' '21123' '21918' '22539' '22544' '22540' '22547' '21703'\n '20973' '20974' '20975' '16045' '22489' '84692' '21213' '22491' '22492'\n '22080' '22082' '22722' '22315' '22090' '21086' '21987' '21094' '21988'\n '21080' '21989' '22316' '22543' '22553' '22556' '22554' '21218' '22625'\n '22930' '22933' '22965' '22966' '20677' '20676' '20675' '22631' '22624'\n '21244' '21243' '21242' '21240' '21239' '21238' '20712' '22663' '85099F'\n '21929' '21928' '22326' '22957' '22432' '22915' '22720' '21672' '22236'\n '84997B' '21578' '84613A' '22960' '22962' '21257' '84819' '84796B'\n '22846' '22847' '22467' '15056BL' '21843' '84279B' '22545' '22147'\n '22352' '21559' '22531' '22382' '22131' '21527' '21537' '22328' '22329'\n '22951' '21524' '22204' '85232D' '21428' '22354' '21533' '22975' '22976'\n '22977' '22988' '47504K' '22971' '21000' '21001' '21913' '22431' '21746'\n '21747' '22272' '22273' '22565' '47566B' '84569B' '84569A' '21715'\n '21716' '21718' '20694' '20699' '20728' '20726' '20725' '21561' '22907'\n '22398' '22252' '22969' '85040A' '85230E' '85230G' '22893' '21980'\n '22555' '79190D' '22376' '21039' '20718' '21246' '22414' '22457' '21394'\n '22628' '22073' '22180' '22993' '23231' '22168' '22169' '22261' '21937'\n '22501' '21535' '21531' '84969' '21318' '22223' '21467' '84820' '22794'\n '22333' '22487' '22760' '84563A' '84563B' '84997D' '47559B' '22851'\n '84987' '84536B' '37448' '47591D' '21109' '21972' '22416' '22949'\n '85014B' '23007' '23008' '22967' '22232' '22248' '22742' '22367' '21156'\n '22303' '22385' '21915' '21914' '21936' '21210' '84988' '22534' '22537'\n '21731' '22099' '23000' '23177' '23176' '22748' '22746' '22745' '22614'\n '22726' '22729' '22727' '22725' '22728' '85099C' '84012' '84006' '22245'\n '22466' '20713' '22419' '22420' '23154' '22399' '79190B' '79191C'\n '79190A' '22994' '23004' '21990' '84596B' '84596F' '23078' '20749'\n '20750' '21245' '20674' '22302' '22659' '20963' '21107' '85175' '21791'\n '21494' '23076' '84970L' '21232' '21110' '22029' '22716' '21508' '22717'\n '84997A' '22894' '22981' '23077' '22644' '37501' '21108' '23159' '22635'\n '21866' '22276' '20665' '21576' '22372' '47566' '22613' '22383' '23208'\n '23206' '22662' '21829' '37495' '22405' '21222' '84580' '84581' '23256'\n '23254' '22908' '23255' '22712' '22817' '22557' '22634' '21452' '84991'\n '20727' '22434' '23209' '23203' '23298' '22620' '22440' '22730' '84380'\n '22968' '23148' '23084' '23281' '23173' '72741' '22077' '22923' '21165'\n '23065' '23066' '15039' '21705' '22319' '22037' '23199' '23204' '23190'\n '85017B' '85032B' '21931' '22027' '21881' '21884' '21481' '22139' '21556'\n '22961' '85019B' '21935' '22449' '21908' '21216' '79191B' '22627' '22626'\n '85132C' '84086C' '20979' '22753' '22757' '22758' '20766' '20764' '21888'\n '23202' '22413' '21770' '21906' '18007' '22471' '22548' '23170' '23111'\n '23118' '23080' '23108' '22699' '23010' '21084' '21090' '23174' '23175'\n '23210' '22990' '21042' '21430' '22623' '22379' '22381' '22380' '22386'\n '22384' '22362' '22363' '23094' '79000' '23221' '23220' '23244' '23235'\n '23237' '23241' '22348' '22374' '23283' '22974' '22972' '37475' '47518F'\n '47593B' '23245' '23240' '23289' '23290' '23291' '23292' '20914' '21883'\n '85173' '84596L' '22301' '23236' '23238' '23308' '84378' '22964' '22819'\n '21059' '22371' '20971' '23307' '22138' '22617' '84535B' '47580' '21106'\n '84596G' '22064' '22067' '35924' '22649' '37447' '72225C' '16048' '22646'\n '22776' '22799' '21671' '22509' '22151' '22505' '22899' '23243' '22838'\n '23346' '23345' '84509A' '22636' '22320' '22652' '23293' '20837' '20838'\n '20840' '21055' '22483' '22530' '48185' '20977' '22759' '20770' '23229'\n '21889' '21912' '84659A' '22192' '22193' '22191' '23342' '37467' '23013'\n '23014' '23267' '23286' '23287' '23315' '23546' '23548' '22840' '22852'\n '22702' '20682' '85014A' '20983' '20981' '21249' '21981' '16238' '22891'\n '23297' '23295' '23353' '23282' '85049E' '21172' '85066' '84816' '22668'\n '23310' '22992' '22437' '22332' '21327' '21207' '20978' '22040' '16169M'\n '23110' '23112' '90001B' '90001D' '90018C' '90145' '90019A' '90120B'\n '90164A' '90024B' '90036E' '22222' '84030E' '23301' '23285' '23350'\n '23545' '22214' '21500' '22986' '16161P' '21680' '35923' '23200' '23196'\n '22999' '22895' '22549' '22715' '22815' '22375' '22117' '21424' '21426'\n '23126' '23127' '23390' '16161U' '22045' '23128' '23201' '21429' '21648'\n '47590A' '47590B' '22299' '23156' '22937' '20985' '21832' '22904' '22637'\n '21947' '23388' '23389' '20679' '22947' '22946' '22816' '22452' '22453'\n '22984' '22698' '22697' '23306' '23351' '23352' '22955' '22956' '21215'\n '22952' '23354' '84509C' '84509B' '22507' '21058' '23205' '23344' '23191'\n '84997C' '23369' '21463' '21464' '70006' '22435' '22436' '23398' '23426'\n '22576' '22807' '23012' '23566' '23565' '23660' '85015' '22221' '22046'\n '22582' '23382' '21577' '21787' '21131' '21132' '22493' '22174' '82001S'\n '23040' '22892' '23009' '23319' '85230B' '22750' '22751' '22110' '21485'\n '23313' '22940' '22941' '22943' '22942' '22589' '22588' '22580' '23320'\n '23378' '23480' '48194' '48188' '21060' '21062' '21063' '21381' '21673'\n '22071' '22692' '22741' '22800' '23453' '23462' '23476' '23487' '23543'\n '22900' '22970' '22197' '23303' '23304' '23305' '23358' '21484' '23247'\n '22812' '23511' '23515' '23513' '23519' '23517' '22898' '23508' '23506'\n '23510' '23367' '23368' '23366' '23493' '21993' '23569' '21733' '22791'\n '23377' '23198' '22558' '20668' '23115' '23114' '23379' '23381' '23371'\n '23372' '22508' '23559' '22512' '22070' '21844' '23497' '22472' '22474'\n '23242' '23570' '21285' '22752' '85176' '23275' '23234' '22494' '79066K'\n '21439' '21621' '23207' '23407' '22141' '22573' '22574' '22601' '22602'\n '22600' '22603' '84945' '22321' '22142' '22144' '22909' '23082' '21499'\n '21498' '21495' '22704' '22706' '22707' '22708' '16156L' '16156S' '21199'\n '21380' '21197' '23576' '23562' '22944' '22959' '23391' '21704' '23598'\n '23264' '22632' '22865' '71459']",
            "count": 1
           }
          ]
         }
        },
        {
         "name": "gdp",
         "dtype": "float64",
         "stats": {
          "unique_count": 3,
          "nan_count": 0,
          "min": "531535892341.61584",
          "max": "17061947886833.7",
          "histogram": [
           {
            "bin_start": 531535892341.61584,
            "bin_end": 2184577091790.8242,
            "count": 1
           },
           {
            "bin_start": 2184577091790.8242,
            "bin_end": 3837618291240.0327,
            "count": 1
           },
           {
            "bin_start": 3837618291240.0327,
            "bin_end": 5490659490689.241,
            "count": 0
           },
           {
            "bin_start": 5490659490689.241,
            "bin_end": 7143700690138.45,
            "count": 0
           },
           {
            "bin_start": 7143700690138.45,
            "bin_end": 8796741889587.658,
            "count": 0
           },
           {
            "bin_start": 8796741889587.658,
            "bin_end": 10449783089036.865,
            "count": 0
           },
           {
            "bin_start": 10449783089036.865,
            "bin_end": 12102824288486.074,
            "count": 0
           },
           {
            "bin_start": 12102824288486.074,
            "bin_end": 13755865487935.283,
            "count": 0
           },
           {
            "bin_start": 13755865487935.283,
            "bin_end": 15408906687384.492,
            "count": 0
           },
           {
            "bin_start": 15408906687384.492,
            "bin_end": 17061947886833.7,
            "count": 1
           }
          ]
         }
        },
        {
         "name": "cpi",
         "dtype": "float64",
         "stats": {
          "unique_count": 3,
          "nan_count": 0,
          "min": "102.11159795175",
          "max": "103.532082107227",
          "histogram": [
           {
            "bin_start": 102.11159795175,
            "bin_end": 102.2536463672977,
            "count": 1
           },
           {
            "bin_start": 102.2536463672977,
            "bin_end": 102.3956947828454,
            "count": 0
           },
           {
            "bin_start": 102.3956947828454,
            "bin_end": 102.5377431983931,
            "count": 0
           },
           {
            "bin_start": 102.5377431983931,
            "bin_end": 102.6797916139408,
            "count": 0
           },
           {
            "bin_start": 102.6797916139408,
            "bin_end": 102.8218400294885,
            "count": 0
           },
           {
            "bin_start": 102.8218400294885,
            "bin_end": 102.9638884450362,
            "count": 0
           },
           {
            "bin_start": 102.9638884450362,
            "bin_end": 103.1059368605839,
            "count": 0
           },
           {
            "bin_start": 103.1059368605839,
            "bin_end": 103.2479852761316,
            "count": 1
           },
           {
            "bin_start": 103.2479852761316,
            "bin_end": 103.39003369167929,
            "count": 0
           },
           {
            "bin_start": 103.39003369167929,
            "bin_end": 103.532082107227,
            "count": 1
           }
          ]
         }
        },
        {
         "name": "population",
         "dtype": "float64",
         "stats": {
          "unique_count": 3,
          "nan_count": 0,
          "min": "11038264.0",
          "max": "311583481.0",
          "histogram": [
           {
            "bin_start": 11038264,
            "bin_end": 41092785.7,
            "count": 1
           },
           {
            "bin_start": 41092785.7,
            "bin_end": 71147307.4,
            "count": 1
           },
           {
            "bin_start": 71147307.4,
            "bin_end": 101201829.1,
            "count": 0
           },
           {
            "bin_start": 101201829.1,
            "bin_end": 131256350.8,
            "count": 0
           },
           {
            "bin_start": 131256350.8,
            "bin_end": 161310872.5,
            "count": 0
           },
           {
            "bin_start": 161310872.5,
            "bin_end": 191365394.2,
            "count": 0
           },
           {
            "bin_start": 191365394.2,
            "bin_end": 221419915.9,
            "count": 0
           },
           {
            "bin_start": 221419915.9,
            "bin_end": 251474437.6,
            "count": 0
           },
           {
            "bin_start": 251474437.6,
            "bin_end": 281528959.3,
            "count": 0
           },
           {
            "bin_start": 281528959.3,
            "bin_end": 311583481,
            "count": 1
           }
          ]
         }
        },
        {
         "name": "merchsales",
         "dtype": "float64",
         "stats": {
          "unique_count": 3,
          "nan_count": 0,
          "min": "466943000000.0",
          "max": "2266024000000.0",
          "histogram": [
           {
            "bin_start": 466943000000,
            "bin_end": 646851100000,
            "count": 1
           },
           {
            "bin_start": 646851100000,
            "bin_end": 826759200000,
            "count": 1
           },
           {
            "bin_start": 826759200000,
            "bin_end": 1006667300000,
            "count": 0
           },
           {
            "bin_start": 1006667300000,
            "bin_end": 1186575400000,
            "count": 0
           },
           {
            "bin_start": 1186575400000,
            "bin_end": 1366483500000,
            "count": 0
           },
           {
            "bin_start": 1366483500000,
            "bin_end": 1546391600000,
            "count": 0
           },
           {
            "bin_start": 1546391600000,
            "bin_end": 1726299700000,
            "count": 0
           },
           {
            "bin_start": 1726299700000,
            "bin_end": 1906207800000,
            "count": 0
           },
           {
            "bin_start": 1906207800000,
            "bin_end": 2086115900000,
            "count": 0
           },
           {
            "bin_start": 2086115900000,
            "bin_end": 2266024000000,
            "count": 1
           }
          ]
         }
        },
        {
         "name": "internet",
         "dtype": "float64",
         "stats": {
          "unique_count": 3,
          "nan_count": 0,
          "min": "69.72946076",
          "max": "81.609996",
          "histogram": [
           {
            "bin_start": 69.72946076,
            "bin_end": 70.91751428399999,
            "count": 1
           },
           {
            "bin_start": 70.91751428399999,
            "bin_end": 72.10556780799999,
            "count": 0
           },
           {
            "bin_start": 72.10556780799999,
            "bin_end": 73.293621332,
            "count": 0
           },
           {
            "bin_start": 73.293621332,
            "bin_end": 74.481674856,
            "count": 0
           },
           {
            "bin_start": 74.481674856,
            "bin_end": 75.66972838,
            "count": 0
           },
           {
            "bin_start": 75.66972838,
            "bin_end": 76.85778190399999,
            "count": 0
           },
           {
            "bin_start": 76.85778190399999,
            "bin_end": 78.04583542799999,
            "count": 1
           },
           {
            "bin_start": 78.04583542799999,
            "bin_end": 79.233888952,
            "count": 0
           },
           {
            "bin_start": 79.233888952,
            "bin_end": 80.421942476,
            "count": 0
           },
           {
            "bin_start": 80.421942476,
            "bin_end": 81.609996,
            "count": 1
           }
          ]
         }
        },
        {
         "name": "distance",
         "dtype": "float64",
         "stats": {
          "unique_count": 3,
          "nan_count": 0,
          "min": "323.696",
          "max": "7767.24",
          "histogram": [
           {
            "bin_start": 323.696,
            "bin_end": 1068.0504,
            "count": 1
           },
           {
            "bin_start": 1068.0504,
            "bin_end": 1812.4047999999998,
            "count": 0
           },
           {
            "bin_start": 1812.4047999999998,
            "bin_end": 2556.7591999999995,
            "count": 0
           },
           {
            "bin_start": 2556.7591999999995,
            "bin_end": 3301.1135999999997,
            "count": 1
           },
           {
            "bin_start": 3301.1135999999997,
            "bin_end": 4045.468,
            "count": 0
           },
           {
            "bin_start": 4045.468,
            "bin_end": 4789.822399999999,
            "count": 0
           },
           {
            "bin_start": 4789.822399999999,
            "bin_end": 5534.176799999999,
            "count": 0
           },
           {
            "bin_start": 5534.176799999999,
            "bin_end": 6278.531199999999,
            "count": 0
           },
           {
            "bin_start": 6278.531199999999,
            "bin_end": 7022.8856,
            "count": 0
           },
           {
            "bin_start": 7022.8856,
            "bin_end": 7767.24,
            "count": 1
           }
          ]
         }
        },
        {
         "name": "_deepnote_index_column",
         "dtype": "int64"
        }
       ],
       "rows_top": [
        {
         "name": "France",
         "code": "FRA",
         "df": "                     SalesValue\ndate                           \n2010-12-31 00:00:00         0.0\n201…",
         "totalsales": 184582.74000000002,
         "customercnt": 88,
         "uniqueStockID": "['22728' '22727' '22726' ... '23579' '23562' '21258']",
         "gdp": 2800854547180.793,
         "cpi": 102.11159795175,
         "population": 65342789,
         "merchsales": 720028000000,
         "internet": 77.81999899,
         "distance": 3224.95,
         "_deepnote_index_column": 0
        },
        {
         "name": "USA",
         "code": "USA",
         "df": "                     SalesValue\ndate                           \n2011-04-30 00:00:00         0.0\n201…",
         "totalsales": 3580.39,
         "customercnt": 4,
         "uniqueStockID": "['22722' '22979' '84987' '22720' '22993' '47580' '22989' '22900' '22128'\n '47590B' '22965' '22088' …",
         "gdp": 17061947886833.7,
         "cpi": 103.156841568622,
         "population": 311583481,
         "merchsales": 2266024000000,
         "internet": 69.72946076,
         "distance": 7767.24,
         "_deepnote_index_column": 1
        },
        {
         "name": "Belgium",
         "code": "BEL",
         "df": "                     SalesValue\ndate                           \n2010-12-31 00:00:00         0.0\n201…",
         "totalsales": 36927.34000000001,
         "customercnt": 25,
         "uniqueStockID": "['84375' '21217' '21212' '21977' '22417' '21975' '21976' '22551' '85099B'\n '22355' '84992' '22801' …",
         "gdp": 531535892341.61584,
         "cpi": 103.532082107227,
         "population": 11038264,
         "merchsales": 466943000000,
         "internet": 81.609996,
         "distance": 323.696,
         "_deepnote_index_column": 2
        }
       ],
       "rows_bottom": null
      },
      "text/plain": "      name code                                                 df  \\\n0   France  FRA                       SalesValue\ndate          ...   \n1      USA  USA                       SalesValue\ndate          ...   \n2  Belgium  BEL                       SalesValue\ndate          ...   \n\n   totalsales  customercnt                                      uniqueStockID  \\\n0   184582.74           88  [22728, 22727, 22726, 21724, 21883, 10002, 217...   \n1     3580.39            4  [22722, 22979, 84987, 22720, 22993, 47580, 229...   \n2    36927.34           25  [84375, 21217, 21212, 21977, 22417, 21975, 219...   \n\n            gdp         cpi   population    merchsales   internet  distance  \n0  2.800855e+12  102.111598   65342789.0  7.200280e+11  77.819999  3224.950  \n1  1.706195e+13  103.156842  311583481.0  2.266024e+12  69.729461  7767.240  \n2  5.315359e+11  103.532082   11038264.0  4.669430e+11  81.609996   323.696  ",
      "text/html": "<div>\n<style scoped>\n    .dataframe tbody tr th:only-of-type {\n        vertical-align: middle;\n    }\n\n    .dataframe tbody tr th {\n        vertical-align: top;\n    }\n\n    .dataframe thead th {\n        text-align: right;\n    }\n</style>\n<table border=\"1\" class=\"dataframe\">\n  <thead>\n    <tr style=\"text-align: right;\">\n      <th></th>\n      <th>name</th>\n      <th>code</th>\n      <th>df</th>\n      <th>totalsales</th>\n      <th>customercnt</th>\n      <th>uniqueStockID</th>\n      <th>gdp</th>\n      <th>cpi</th>\n      <th>population</th>\n      <th>merchsales</th>\n      <th>internet</th>\n      <th>distance</th>\n    </tr>\n  </thead>\n  <tbody>\n    <tr>\n      <th>0</th>\n      <td>France</td>\n      <td>FRA</td>\n      <td>SalesValue\ndate          ...</td>\n      <td>184582.74</td>\n      <td>88</td>\n      <td>[22728, 22727, 22726, 21724, 21883, 10002, 217...</td>\n      <td>2.800855e+12</td>\n      <td>102.111598</td>\n      <td>65342789.0</td>\n      <td>7.200280e+11</td>\n      <td>77.819999</td>\n      <td>3224.950</td>\n    </tr>\n    <tr>\n      <th>1</th>\n      <td>USA</td>\n      <td>USA</td>\n      <td>SalesValue\ndate          ...</td>\n      <td>3580.39</td>\n      <td>4</td>\n      <td>[22722, 22979, 84987, 22720, 22993, 47580, 229...</td>\n      <td>1.706195e+13</td>\n      <td>103.156842</td>\n      <td>311583481.0</td>\n      <td>2.266024e+12</td>\n      <td>69.729461</td>\n      <td>7767.240</td>\n    </tr>\n    <tr>\n      <th>2</th>\n      <td>Belgium</td>\n      <td>BEL</td>\n      <td>SalesValue\ndate          ...</td>\n      <td>36927.34</td>\n      <td>25</td>\n      <td>[84375, 21217, 21212, 21977, 22417, 21975, 219...</td>\n      <td>5.315359e+11</td>\n      <td>103.532082</td>\n      <td>11038264.0</td>\n      <td>4.669430e+11</td>\n      <td>81.609996</td>\n      <td>323.696</td>\n    </tr>\n  </tbody>\n</table>\n</div>"
     },
     "metadata": {}
    }
   ],
   "execution_count": null
  },
  {
   "cell_type": "code",
   "metadata": {
    "cell_id": "00008-a1a035fe-13c0-4156-9360-01a0c69a2980",
    "deepnote_to_be_reexecuted": false,
    "source_hash": "dca6a6f0",
    "execution_start": 1629862868690,
    "execution_millis": 7,
    "deepnote_cell_type": "code"
   },
   "source": "#Example of how to extract Monthly Sales data for each country\n# In this example, we will use Canada and for that code is \"CAN\"\nexample = finaldf.loc[finaldf[\"code\"]=='CAN', 'df'].item()\nexample",
   "outputs": [
    {
     "output_type": "execute_result",
     "execution_count": 12,
     "data": {
      "application/vnd.deepnote.dataframe.v2+json": {
       "row_count": 19,
       "column_count": 1,
       "columns": [
        {
         "name": "SalesValue",
         "dtype": "float64",
         "stats": {
          "unique_count": 1,
          "nan_count": 0,
          "min": "0.0",
          "max": "0.0",
          "histogram": [
           {
            "bin_start": -0.5,
            "bin_end": -0.4,
            "count": 0
           },
           {
            "bin_start": -0.4,
            "bin_end": -0.3,
            "count": 0
           },
           {
            "bin_start": -0.3,
            "bin_end": -0.19999999999999996,
            "count": 0
           },
           {
            "bin_start": -0.19999999999999996,
            "bin_end": -0.09999999999999998,
            "count": 0
           },
           {
            "bin_start": -0.09999999999999998,
            "bin_end": 0,
            "count": 0
           },
           {
            "bin_start": 0,
            "bin_end": 0.10000000000000009,
            "count": 19
           },
           {
            "bin_start": 0.10000000000000009,
            "bin_end": 0.20000000000000007,
            "count": 0
           },
           {
            "bin_start": 0.20000000000000007,
            "bin_end": 0.30000000000000004,
            "count": 0
           },
           {
            "bin_start": 0.30000000000000004,
            "bin_end": 0.4,
            "count": 0
           },
           {
            "bin_start": 0.4,
            "bin_end": 0.5,
            "count": 0
           }
          ]
         }
        },
        {
         "name": "_deepnote_index_column",
         "dtype": "datetime64[ns]"
        }
       ],
       "rows_top": [
        {
         "SalesValue": 0,
         "_deepnote_index_column": "2011-03-31T00:00:00.000000"
        },
        {
         "SalesValue": 0,
         "_deepnote_index_column": "2011-04-30T00:00:00.000000"
        },
        {
         "SalesValue": 0,
         "_deepnote_index_column": "2011-05-31T00:00:00.000000"
        },
        {
         "SalesValue": 0,
         "_deepnote_index_column": "2011-06-30T00:00:00.000000"
        },
        {
         "SalesValue": 0,
         "_deepnote_index_column": "2011-07-31T00:00:00.000000"
        },
        {
         "SalesValue": 0,
         "_deepnote_index_column": "2011-08-31T00:00:00.000000"
        },
        {
         "SalesValue": 0,
         "_deepnote_index_column": "2010-12-31T00:00:00.000000"
        },
        {
         "SalesValue": 0,
         "_deepnote_index_column": "2011-01-31T00:00:00.000000"
        },
        {
         "SalesValue": 0,
         "_deepnote_index_column": "2011-02-28T00:00:00.000000"
        },
        {
         "SalesValue": 0,
         "_deepnote_index_column": "2011-03-31T00:00:00.000000"
        },
        {
         "SalesValue": 0,
         "_deepnote_index_column": "2011-04-30T00:00:00.000000"
        },
        {
         "SalesValue": 0,
         "_deepnote_index_column": "2011-05-31T00:00:00.000000"
        },
        {
         "SalesValue": 0,
         "_deepnote_index_column": "2011-06-30T00:00:00.000000"
        },
        {
         "SalesValue": 0,
         "_deepnote_index_column": "2011-07-31T00:00:00.000000"
        },
        {
         "SalesValue": 0,
         "_deepnote_index_column": "2011-08-31T00:00:00.000000"
        },
        {
         "SalesValue": 0,
         "_deepnote_index_column": "2011-09-30T00:00:00.000000"
        },
        {
         "SalesValue": 0,
         "_deepnote_index_column": "2011-10-31T00:00:00.000000"
        },
        {
         "SalesValue": 0,
         "_deepnote_index_column": "2011-11-30T00:00:00.000000"
        },
        {
         "SalesValue": 0,
         "_deepnote_index_column": "2011-12-31T00:00:00.000000"
        }
       ],
       "rows_bottom": null
      },
      "text/plain": "                     SalesValue\ndate                           \n2011-03-31 00:00:00         0.0\n2011-04-30 00:00:00         0.0\n2011-05-31 00:00:00         0.0\n2011-06-30 00:00:00         0.0\n2011-07-31 00:00:00         0.0\n2011-08-31 00:00:00         0.0\n2010-12-31                  0.0\n2011-01-31                  0.0\n2011-02-28                  0.0\n2011-03-31                  0.0\n2011-04-30                  0.0\n2011-05-31                  0.0\n2011-06-30                  0.0\n2011-07-31                  0.0\n2011-08-31                  0.0\n2011-09-30                  0.0\n2011-10-31                  0.0\n2011-11-30                  0.0\n2011-12-31                  0.0",
      "text/html": "<div>\n<style scoped>\n    .dataframe tbody tr th:only-of-type {\n        vertical-align: middle;\n    }\n\n    .dataframe tbody tr th {\n        vertical-align: top;\n    }\n\n    .dataframe thead th {\n        text-align: right;\n    }\n</style>\n<table border=\"1\" class=\"dataframe\">\n  <thead>\n    <tr style=\"text-align: right;\">\n      <th></th>\n      <th>SalesValue</th>\n    </tr>\n    <tr>\n      <th>date</th>\n      <th></th>\n    </tr>\n  </thead>\n  <tbody>\n    <tr>\n      <th>2011-03-31 00:00:00</th>\n      <td>0.0</td>\n    </tr>\n    <tr>\n      <th>2011-04-30 00:00:00</th>\n      <td>0.0</td>\n    </tr>\n    <tr>\n      <th>2011-05-31 00:00:00</th>\n      <td>0.0</td>\n    </tr>\n    <tr>\n      <th>2011-06-30 00:00:00</th>\n      <td>0.0</td>\n    </tr>\n    <tr>\n      <th>2011-07-31 00:00:00</th>\n      <td>0.0</td>\n    </tr>\n    <tr>\n      <th>2011-08-31 00:00:00</th>\n      <td>0.0</td>\n    </tr>\n    <tr>\n      <th>2010-12-31</th>\n      <td>0.0</td>\n    </tr>\n    <tr>\n      <th>2011-01-31</th>\n      <td>0.0</td>\n    </tr>\n    <tr>\n      <th>2011-02-28</th>\n      <td>0.0</td>\n    </tr>\n    <tr>\n      <th>2011-03-31</th>\n      <td>0.0</td>\n    </tr>\n    <tr>\n      <th>2011-04-30</th>\n      <td>0.0</td>\n    </tr>\n    <tr>\n      <th>2011-05-31</th>\n      <td>0.0</td>\n    </tr>\n    <tr>\n      <th>2011-06-30</th>\n      <td>0.0</td>\n    </tr>\n    <tr>\n      <th>2011-07-31</th>\n      <td>0.0</td>\n    </tr>\n    <tr>\n      <th>2011-08-31</th>\n      <td>0.0</td>\n    </tr>\n    <tr>\n      <th>2011-09-30</th>\n      <td>0.0</td>\n    </tr>\n    <tr>\n      <th>2011-10-31</th>\n      <td>0.0</td>\n    </tr>\n    <tr>\n      <th>2011-11-30</th>\n      <td>0.0</td>\n    </tr>\n    <tr>\n      <th>2011-12-31</th>\n      <td>0.0</td>\n    </tr>\n  </tbody>\n</table>\n</div>"
     },
     "metadata": {}
    }
   ],
   "execution_count": null
  },
  {
   "cell_type": "markdown",
   "source": "<a style='text-decoration:none;line-height:16px;display:flex;color:#5B5B62;padding:10px;justify-content:end;' href='https://deepnote.com?utm_source=created-in-deepnote-cell&projectId=023a0e03-cc30-4d6d-b448-6d27799cca93' target=\"_blank\">\n<img alt='Created in deepnote.com' style='display:inline;max-height:16px;margin:0px;margin-right:7.5px;' src='data:image/svg+xml;base64,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' > </img>\nCreated in <span style='font-weight:600;margin-left:4px;'>Deepnote</span></a>",
   "metadata": {
    "tags": [],
    "created_in_deepnote_cell": true,
    "deepnote_cell_type": "markdown"
   }
  }
 ],
 "nbformat": 4,
 "nbformat_minor": 2,
 "metadata": {
  "orig_nbformat": 4,
  "language_info": {
   "name": "python",
   "version": "3.7.10",
   "mimetype": "text/x-python",
   "codemirror_mode": {
    "name": "ipython",
    "version": 3
   },
   "pygments_lexer": "ipython3",
   "nbconvert_exporter": "python",
   "file_extension": ".py"
  },
  "kernelspec": {
   "name": "python3",
   "display_name": "Python 3.7.10 64-bit ('koust': virtualenv)"
  },
  "interpreter": {
   "hash": "08674fbc1dfc0c234daaa71180d034348c96e795ab49507e0710d4d145c79adf"
  },
  "deepnote_notebook_id": "8a0feedc-be50-4b70-8a81-3a8fb348eeba",
  "deepnote": {},
  "deepnote_execution_queue": []
 }
}